{
 "cells": [
  {
   "cell_type": "code",
   "execution_count": 1,
   "metadata": {},
   "outputs": [],
   "source": [
    "import json\n",
    "import csv\n",
    "import numpy as np\n",
    "import pandas as pd\n",
    "from sklearn.metrics import precision_recall_fscore_support as prf_score\n",
    "from sklearn.metrics import accuracy_score as accuracy_score\n",
    "import Levenshtein as lv\n",
    "from difflib import SequenceMatcher\n",
    "import affinegap\n",
    "import scipy\n",
    "import timeit\n",
    "import sklearn\n",
    "from sklearn.model_selection import train_test_split\n",
    "from sklearn.model_selection import GridSearchCV\n",
    "from sklearn.ensemble import RandomForestClassifier\n",
    "from sklearn.model_selection import StratifiedKFold\n",
    "from scipy.stats import randint as sp_randint\n",
    "import warnings\n",
    "warnings.simplefilter(action='ignore', category=FutureWarning)\n",
    "pd.set_option('display.max_columns', None)"
   ]
  },
  {
   "cell_type": "code",
   "execution_count": 2,
   "metadata": {},
   "outputs": [],
   "source": [
    "entity_path = pd.read_csv('data/match/entity.csv')\n",
    "resolution_train_path = pd.read_csv('data/training/resolution_training.csv')\n",
    "resolution_test_path = pd.read_csv('data/test/resolution_test.csv')\n",
    "resolution_test_path_v2 = pd.read_csv('data/test/resolution_test.csv')"
   ]
  },
  {
   "cell_type": "code",
   "execution_count": 3,
   "metadata": {},
   "outputs": [
    {
     "data": {
      "text/html": [
       "<div>\n",
       "<style scoped>\n",
       "    .dataframe tbody tr th:only-of-type {\n",
       "        vertical-align: middle;\n",
       "    }\n",
       "\n",
       "    .dataframe tbody tr th {\n",
       "        vertical-align: top;\n",
       "    }\n",
       "\n",
       "    .dataframe thead th {\n",
       "        text-align: right;\n",
       "    }\n",
       "</style>\n",
       "<table border=\"1\" class=\"dataframe\">\n",
       "  <thead>\n",
       "    <tr style=\"text-align: right;\">\n",
       "      <th></th>\n",
       "      <th>id</th>\n",
       "      <th>name</th>\n",
       "    </tr>\n",
       "  </thead>\n",
       "  <tbody>\n",
       "    <tr>\n",
       "      <th>0</th>\n",
       "      <td>1</td>\n",
       "      <td>\"Donald Trump\"</td>\n",
       "    </tr>\n",
       "    <tr>\n",
       "      <th>1</th>\n",
       "      <td>2</td>\n",
       "      <td>\"Robert Mueller\"</td>\n",
       "    </tr>\n",
       "    <tr>\n",
       "      <th>2</th>\n",
       "      <td>3</td>\n",
       "      <td>\"Michael Cohen\"</td>\n",
       "    </tr>\n",
       "    <tr>\n",
       "      <th>3</th>\n",
       "      <td>4</td>\n",
       "      <td>\"Chris Wallace\"</td>\n",
       "    </tr>\n",
       "    <tr>\n",
       "      <th>4</th>\n",
       "      <td>5</td>\n",
       "      <td>\"William Barr\"</td>\n",
       "    </tr>\n",
       "  </tbody>\n",
       "</table>\n",
       "</div>"
      ],
      "text/plain": [
       "   id               name\n",
       "0   1     \"Donald Trump\"\n",
       "1   2   \"Robert Mueller\"\n",
       "2   3    \"Michael Cohen\"\n",
       "3   4    \"Chris Wallace\"\n",
       "4   5     \"William Barr\""
      ]
     },
     "execution_count": 3,
     "metadata": {},
     "output_type": "execute_result"
    }
   ],
   "source": [
    "entity_path.head()"
   ]
  },
  {
   "cell_type": "code",
   "execution_count": 4,
   "metadata": {},
   "outputs": [
    {
     "data": {
      "text/html": [
       "<div>\n",
       "<style scoped>\n",
       "    .dataframe tbody tr th:only-of-type {\n",
       "        vertical-align: middle;\n",
       "    }\n",
       "\n",
       "    .dataframe tbody tr th {\n",
       "        vertical-align: top;\n",
       "    }\n",
       "\n",
       "    .dataframe thead th {\n",
       "        text-align: right;\n",
       "    }\n",
       "</style>\n",
       "<table border=\"1\" class=\"dataframe\">\n",
       "  <thead>\n",
       "    <tr style=\"text-align: right;\">\n",
       "      <th></th>\n",
       "      <th>id</th>\n",
       "      <th>name</th>\n",
       "      <th>aka</th>\n",
       "    </tr>\n",
       "  </thead>\n",
       "  <tbody>\n",
       "    <tr>\n",
       "      <th>0</th>\n",
       "      <td>1</td>\n",
       "      <td>Trump</td>\n",
       "      <td>6064</td>\n",
       "    </tr>\n",
       "    <tr>\n",
       "      <th>1</th>\n",
       "      <td>2</td>\n",
       "      <td>Mueller</td>\n",
       "      <td>1381</td>\n",
       "    </tr>\n",
       "    <tr>\n",
       "      <th>2</th>\n",
       "      <td>3</td>\n",
       "      <td>Cohen</td>\n",
       "      <td>1347</td>\n",
       "    </tr>\n",
       "    <tr>\n",
       "      <th>3</th>\n",
       "      <td>4</td>\n",
       "      <td>WALLACE</td>\n",
       "      <td>1129</td>\n",
       "    </tr>\n",
       "    <tr>\n",
       "      <th>4</th>\n",
       "      <td>5</td>\n",
       "      <td>Barr</td>\n",
       "      <td>814</td>\n",
       "    </tr>\n",
       "  </tbody>\n",
       "</table>\n",
       "</div>"
      ],
      "text/plain": [
       "   id     name   aka\n",
       "0   1    Trump  6064\n",
       "1   2  Mueller  1381\n",
       "2   3    Cohen  1347\n",
       "3   4  WALLACE  1129\n",
       "4   5     Barr   814"
      ]
     },
     "execution_count": 4,
     "metadata": {},
     "output_type": "execute_result"
    }
   ],
   "source": [
    "resolution_train_path.head()\n"
   ]
  },
  {
   "cell_type": "code",
   "execution_count": 5,
   "metadata": {},
   "outputs": [
    {
     "data": {
      "text/html": [
       "<div>\n",
       "<style scoped>\n",
       "    .dataframe tbody tr th:only-of-type {\n",
       "        vertical-align: middle;\n",
       "    }\n",
       "\n",
       "    .dataframe tbody tr th {\n",
       "        vertical-align: top;\n",
       "    }\n",
       "\n",
       "    .dataframe thead th {\n",
       "        text-align: right;\n",
       "    }\n",
       "</style>\n",
       "<table border=\"1\" class=\"dataframe\">\n",
       "  <thead>\n",
       "    <tr style=\"text-align: right;\">\n",
       "      <th></th>\n",
       "      <th>id</th>\n",
       "      <th>name</th>\n",
       "      <th>aka</th>\n",
       "    </tr>\n",
       "  </thead>\n",
       "  <tbody>\n",
       "    <tr>\n",
       "      <th>0</th>\n",
       "      <td>12</td>\n",
       "      <td>Clinton</td>\n",
       "      <td>Hillary Clinton</td>\n",
       "    </tr>\n",
       "    <tr>\n",
       "      <th>1</th>\n",
       "      <td>35</td>\n",
       "      <td>Nancy Pelosi</td>\n",
       "      <td>NaN</td>\n",
       "    </tr>\n",
       "    <tr>\n",
       "      <th>2</th>\n",
       "      <td>36</td>\n",
       "      <td>Barack Obama</td>\n",
       "      <td>NaN</td>\n",
       "    </tr>\n",
       "    <tr>\n",
       "      <th>3</th>\n",
       "      <td>37</td>\n",
       "      <td>Robert Mueller</td>\n",
       "      <td>NaN</td>\n",
       "    </tr>\n",
       "    <tr>\n",
       "      <th>4</th>\n",
       "      <td>38</td>\n",
       "      <td>Michael Cohen</td>\n",
       "      <td>NaN</td>\n",
       "    </tr>\n",
       "  </tbody>\n",
       "</table>\n",
       "</div>"
      ],
      "text/plain": [
       "   id            name              aka\n",
       "0  12         Clinton  Hillary Clinton\n",
       "1  35    Nancy Pelosi              NaN\n",
       "2  36    Barack Obama              NaN\n",
       "3  37  Robert Mueller              NaN\n",
       "4  38   Michael Cohen              NaN"
      ]
     },
     "execution_count": 5,
     "metadata": {},
     "output_type": "execute_result"
    }
   ],
   "source": [
    "resolution_test_path.head()"
   ]
  },
  {
   "cell_type": "code",
   "execution_count": 6,
   "metadata": {},
   "outputs": [],
   "source": [
    "def clean_entity(dataset):\n",
    "        #OVERALL (NaN and None)\n",
    "        dataset.replace('', np.nan, inplace=True)\n",
    "        dataset.fillna(value=np.nan, inplace=True)\n",
    "        #FEATURE: NAME\n",
    "        dataset['name'] = dataset['name'].str.upper()\n",
    "        dataset['name'] = dataset['name'].str.replace(' ', '').str.replace('É', 'E').str.replace('&', 'AND').str.replace('[^a-zA-Z0-9]', '')\n",
    "        return dataset"
   ]
  },
  {
   "cell_type": "code",
   "execution_count": 7,
   "metadata": {},
   "outputs": [],
   "source": [
    "def clean_resolution(dataset):\n",
    "        #OVERALL (NaN and None)\n",
    "        dataset.replace('', np.nan, inplace=True)\n",
    "        dataset.fillna(value=np.nan, inplace=True)\n",
    "        # Dropping count\n",
    "        dataset.drop(['aka'],axis=1, inplace=True)\n",
    "        #FEATURE: NAME\n",
    "        dataset['name'] = dataset['name'].str.upper()\n",
    "        dataset['name'] = dataset['name'].str.replace(' ', '').str.replace('É', 'E').str.replace('&', 'AND').str.replace('[^a-zA-Z0-9]', '')\n",
    "        return dataset"
   ]
  },
  {
   "cell_type": "code",
   "execution_count": 8,
   "metadata": {},
   "outputs": [],
   "source": [
    "def replace(row):\n",
    "    if row['aka'] is not np.nan:\n",
    "        val = row['aka']\n",
    "    else: \n",
    "        val = row['name']\n",
    "    return val"
   ]
  },
  {
   "cell_type": "code",
   "execution_count": 9,
   "metadata": {},
   "outputs": [],
   "source": [
    "def clean_resolution_v2(dataset):\n",
    "        #OVERALL (NaN and None)\n",
    "        dataset.replace('', np.nan, inplace=True)\n",
    "        dataset.fillna(value=np.nan, inplace=True)\n",
    "       \n",
    "        \n",
    "        #FEATURE: NAME\n",
    "        dataset['temp_name'] = dataset.apply(replace, axis=1)\n",
    "        dataset['temp_name'] = dataset['temp_name'].str.upper()\n",
    "        dataset['temp_name'] = dataset['temp_name'].str.replace(' ', '').str.replace('É', 'E').str.replace('&', 'AND').str.replace('[^a-zA-Z0-9]', '')\n",
    "        dataset['name'] = dataset['temp_name']\n",
    "        # Dropping count\n",
    "        dataset.drop(['aka', 'temp_name'],axis=1, inplace=True)\n",
    "        return dataset"
   ]
  },
  {
   "cell_type": "code",
   "execution_count": 10,
   "metadata": {},
   "outputs": [],
   "source": [
    "entity = clean_entity(entity_path)\n",
    "resolution_train = clean_resolution(resolution_train_path)\n",
    "resolution_test = clean_resolution(resolution_test_path)\n",
    "resolution_test_v2 = clean_resolution_v2(resolution_test_path_v2)"
   ]
  },
  {
   "cell_type": "code",
   "execution_count": 11,
   "metadata": {},
   "outputs": [
    {
     "data": {
      "text/html": [
       "<div>\n",
       "<style scoped>\n",
       "    .dataframe tbody tr th:only-of-type {\n",
       "        vertical-align: middle;\n",
       "    }\n",
       "\n",
       "    .dataframe tbody tr th {\n",
       "        vertical-align: top;\n",
       "    }\n",
       "\n",
       "    .dataframe thead th {\n",
       "        text-align: right;\n",
       "    }\n",
       "</style>\n",
       "<table border=\"1\" class=\"dataframe\">\n",
       "  <thead>\n",
       "    <tr style=\"text-align: right;\">\n",
       "      <th></th>\n",
       "      <th>id</th>\n",
       "      <th>name</th>\n",
       "    </tr>\n",
       "  </thead>\n",
       "  <tbody>\n",
       "    <tr>\n",
       "      <th>0</th>\n",
       "      <td>1</td>\n",
       "      <td>DONALDTRUMP</td>\n",
       "    </tr>\n",
       "    <tr>\n",
       "      <th>1</th>\n",
       "      <td>2</td>\n",
       "      <td>ROBERTMUELLER</td>\n",
       "    </tr>\n",
       "    <tr>\n",
       "      <th>2</th>\n",
       "      <td>3</td>\n",
       "      <td>MICHAELCOHEN</td>\n",
       "    </tr>\n",
       "    <tr>\n",
       "      <th>3</th>\n",
       "      <td>4</td>\n",
       "      <td>CHRISWALLACE</td>\n",
       "    </tr>\n",
       "    <tr>\n",
       "      <th>4</th>\n",
       "      <td>5</td>\n",
       "      <td>WILLIAMBARR</td>\n",
       "    </tr>\n",
       "  </tbody>\n",
       "</table>\n",
       "</div>"
      ],
      "text/plain": [
       "   id           name\n",
       "0   1    DONALDTRUMP\n",
       "1   2  ROBERTMUELLER\n",
       "2   3   MICHAELCOHEN\n",
       "3   4   CHRISWALLACE\n",
       "4   5    WILLIAMBARR"
      ]
     },
     "execution_count": 11,
     "metadata": {},
     "output_type": "execute_result"
    }
   ],
   "source": [
    "entity.head()"
   ]
  },
  {
   "cell_type": "code",
   "execution_count": 12,
   "metadata": {},
   "outputs": [
    {
     "data": {
      "text/html": [
       "<div>\n",
       "<style scoped>\n",
       "    .dataframe tbody tr th:only-of-type {\n",
       "        vertical-align: middle;\n",
       "    }\n",
       "\n",
       "    .dataframe tbody tr th {\n",
       "        vertical-align: top;\n",
       "    }\n",
       "\n",
       "    .dataframe thead th {\n",
       "        text-align: right;\n",
       "    }\n",
       "</style>\n",
       "<table border=\"1\" class=\"dataframe\">\n",
       "  <thead>\n",
       "    <tr style=\"text-align: right;\">\n",
       "      <th></th>\n",
       "      <th>id</th>\n",
       "      <th>name</th>\n",
       "    </tr>\n",
       "  </thead>\n",
       "  <tbody>\n",
       "    <tr>\n",
       "      <th>0</th>\n",
       "      <td>1</td>\n",
       "      <td>TRUMP</td>\n",
       "    </tr>\n",
       "    <tr>\n",
       "      <th>1</th>\n",
       "      <td>2</td>\n",
       "      <td>MUELLER</td>\n",
       "    </tr>\n",
       "    <tr>\n",
       "      <th>2</th>\n",
       "      <td>3</td>\n",
       "      <td>COHEN</td>\n",
       "    </tr>\n",
       "    <tr>\n",
       "      <th>3</th>\n",
       "      <td>4</td>\n",
       "      <td>WALLACE</td>\n",
       "    </tr>\n",
       "    <tr>\n",
       "      <th>4</th>\n",
       "      <td>5</td>\n",
       "      <td>BARR</td>\n",
       "    </tr>\n",
       "  </tbody>\n",
       "</table>\n",
       "</div>"
      ],
      "text/plain": [
       "   id     name\n",
       "0   1    TRUMP\n",
       "1   2  MUELLER\n",
       "2   3    COHEN\n",
       "3   4  WALLACE\n",
       "4   5     BARR"
      ]
     },
     "execution_count": 12,
     "metadata": {},
     "output_type": "execute_result"
    }
   ],
   "source": [
    "resolution_train.head()"
   ]
  },
  {
   "cell_type": "code",
   "execution_count": 13,
   "metadata": {},
   "outputs": [
    {
     "data": {
      "text/html": [
       "<div>\n",
       "<style scoped>\n",
       "    .dataframe tbody tr th:only-of-type {\n",
       "        vertical-align: middle;\n",
       "    }\n",
       "\n",
       "    .dataframe tbody tr th {\n",
       "        vertical-align: top;\n",
       "    }\n",
       "\n",
       "    .dataframe thead th {\n",
       "        text-align: right;\n",
       "    }\n",
       "</style>\n",
       "<table border=\"1\" class=\"dataframe\">\n",
       "  <thead>\n",
       "    <tr style=\"text-align: right;\">\n",
       "      <th></th>\n",
       "      <th>id</th>\n",
       "      <th>name</th>\n",
       "    </tr>\n",
       "  </thead>\n",
       "  <tbody>\n",
       "    <tr>\n",
       "      <th>0</th>\n",
       "      <td>12</td>\n",
       "      <td>CLINTON</td>\n",
       "    </tr>\n",
       "    <tr>\n",
       "      <th>1</th>\n",
       "      <td>35</td>\n",
       "      <td>NANCYPELOSI</td>\n",
       "    </tr>\n",
       "    <tr>\n",
       "      <th>2</th>\n",
       "      <td>36</td>\n",
       "      <td>BARACKOBAMA</td>\n",
       "    </tr>\n",
       "    <tr>\n",
       "      <th>3</th>\n",
       "      <td>37</td>\n",
       "      <td>ROBERTMUELLER</td>\n",
       "    </tr>\n",
       "    <tr>\n",
       "      <th>4</th>\n",
       "      <td>38</td>\n",
       "      <td>MICHAELCOHEN</td>\n",
       "    </tr>\n",
       "  </tbody>\n",
       "</table>\n",
       "</div>"
      ],
      "text/plain": [
       "   id           name\n",
       "0  12        CLINTON\n",
       "1  35    NANCYPELOSI\n",
       "2  36    BARACKOBAMA\n",
       "3  37  ROBERTMUELLER\n",
       "4  38   MICHAELCOHEN"
      ]
     },
     "execution_count": 13,
     "metadata": {},
     "output_type": "execute_result"
    }
   ],
   "source": [
    "resolution_test.head()"
   ]
  },
  {
   "cell_type": "code",
   "execution_count": 14,
   "metadata": {},
   "outputs": [
    {
     "data": {
      "text/html": [
       "<div>\n",
       "<style scoped>\n",
       "    .dataframe tbody tr th:only-of-type {\n",
       "        vertical-align: middle;\n",
       "    }\n",
       "\n",
       "    .dataframe tbody tr th {\n",
       "        vertical-align: top;\n",
       "    }\n",
       "\n",
       "    .dataframe thead th {\n",
       "        text-align: right;\n",
       "    }\n",
       "</style>\n",
       "<table border=\"1\" class=\"dataframe\">\n",
       "  <thead>\n",
       "    <tr style=\"text-align: right;\">\n",
       "      <th></th>\n",
       "      <th>id</th>\n",
       "      <th>name</th>\n",
       "    </tr>\n",
       "  </thead>\n",
       "  <tbody>\n",
       "    <tr>\n",
       "      <th>0</th>\n",
       "      <td>12</td>\n",
       "      <td>HILLARYCLINTON</td>\n",
       "    </tr>\n",
       "    <tr>\n",
       "      <th>1</th>\n",
       "      <td>35</td>\n",
       "      <td>NANCYPELOSI</td>\n",
       "    </tr>\n",
       "    <tr>\n",
       "      <th>2</th>\n",
       "      <td>36</td>\n",
       "      <td>BARACKOBAMA</td>\n",
       "    </tr>\n",
       "    <tr>\n",
       "      <th>3</th>\n",
       "      <td>37</td>\n",
       "      <td>ROBERTMUELLER</td>\n",
       "    </tr>\n",
       "    <tr>\n",
       "      <th>4</th>\n",
       "      <td>38</td>\n",
       "      <td>MICHAELCOHEN</td>\n",
       "    </tr>\n",
       "  </tbody>\n",
       "</table>\n",
       "</div>"
      ],
      "text/plain": [
       "   id            name\n",
       "0  12  HILLARYCLINTON\n",
       "1  35     NANCYPELOSI\n",
       "2  36     BARACKOBAMA\n",
       "3  37   ROBERTMUELLER\n",
       "4  38    MICHAELCOHEN"
      ]
     },
     "execution_count": 14,
     "metadata": {},
     "output_type": "execute_result"
    }
   ],
   "source": [
    "resolution_test_v2.head()"
   ]
  },
  {
   "cell_type": "code",
   "execution_count": 15,
   "metadata": {},
   "outputs": [],
   "source": [
    "def create_dataframe(entity, resolution):\n",
    "        entity_id_list = list(entity['id'])\n",
    "        resolution_id_list = list(resolution['id'])\n",
    "        length_eids = len(entity_id_list)\n",
    "        length_rids = len(resolution_id_list)\n",
    "\n",
    "        resolution_id_repeated = np.repeat(resolution_id_list,length_eids)\n",
    "        #ex. [0,0,0,1,1,1,2,2,2]\n",
    "        entity_id_tiled = np.tile(entity_id_list,length_rids)\n",
    "        #ex. [0,1,2,0,1,2,0,1,2]\n",
    "        df = pd.DataFrame({'resolution_id': resolution_id_repeated,'entity_id':entity_id_tiled})\n",
    "        #ex. [0,0] [0,1] [0,2] [1,0] [1,1] [1,2] [2,0] [2,1] [2,2]\n",
    "        entity = entity.add_suffix('_E')\n",
    "        resolution = resolution.add_suffix('_R')\n",
    "        df = df.merge(entity,left_on='entity_id',right_on=['id_E'],how='left').merge(resolution,left_on='resolution_id',right_on='id_R', how='left')\n",
    "        df['entity_id'] = df['entity_id'].astype(str)\n",
    "        df['resolution_id'] = df['resolution_id'].astype(str)\n",
    "        df['unique_id'] = df['entity_id'] + df['resolution_id']\n",
    "        return df"
   ]
  },
  {
   "cell_type": "code",
   "execution_count": 16,
   "metadata": {},
   "outputs": [],
   "source": [
    "df_train = create_dataframe(entity, resolution_train)\n",
    "df_test = create_dataframe(entity, resolution_test)\n",
    "df_test_v2 = create_dataframe(entity, resolution_test_v2)"
   ]
  },
  {
   "cell_type": "code",
   "execution_count": 17,
   "metadata": {},
   "outputs": [
    {
     "data": {
      "text/html": [
       "<div>\n",
       "<style scoped>\n",
       "    .dataframe tbody tr th:only-of-type {\n",
       "        vertical-align: middle;\n",
       "    }\n",
       "\n",
       "    .dataframe tbody tr th {\n",
       "        vertical-align: top;\n",
       "    }\n",
       "\n",
       "    .dataframe thead th {\n",
       "        text-align: right;\n",
       "    }\n",
       "</style>\n",
       "<table border=\"1\" class=\"dataframe\">\n",
       "  <thead>\n",
       "    <tr style=\"text-align: right;\">\n",
       "      <th></th>\n",
       "      <th>resolution_id</th>\n",
       "      <th>entity_id</th>\n",
       "      <th>id_E</th>\n",
       "      <th>name_E</th>\n",
       "      <th>id_R</th>\n",
       "      <th>name_R</th>\n",
       "      <th>unique_id</th>\n",
       "    </tr>\n",
       "  </thead>\n",
       "  <tbody>\n",
       "    <tr>\n",
       "      <th>0</th>\n",
       "      <td>1</td>\n",
       "      <td>1</td>\n",
       "      <td>1</td>\n",
       "      <td>DONALDTRUMP</td>\n",
       "      <td>1</td>\n",
       "      <td>TRUMP</td>\n",
       "      <td>11</td>\n",
       "    </tr>\n",
       "    <tr>\n",
       "      <th>1</th>\n",
       "      <td>1</td>\n",
       "      <td>2</td>\n",
       "      <td>2</td>\n",
       "      <td>ROBERTMUELLER</td>\n",
       "      <td>1</td>\n",
       "      <td>TRUMP</td>\n",
       "      <td>21</td>\n",
       "    </tr>\n",
       "    <tr>\n",
       "      <th>2</th>\n",
       "      <td>1</td>\n",
       "      <td>3</td>\n",
       "      <td>3</td>\n",
       "      <td>MICHAELCOHEN</td>\n",
       "      <td>1</td>\n",
       "      <td>TRUMP</td>\n",
       "      <td>31</td>\n",
       "    </tr>\n",
       "    <tr>\n",
       "      <th>3</th>\n",
       "      <td>1</td>\n",
       "      <td>4</td>\n",
       "      <td>4</td>\n",
       "      <td>CHRISWALLACE</td>\n",
       "      <td>1</td>\n",
       "      <td>TRUMP</td>\n",
       "      <td>41</td>\n",
       "    </tr>\n",
       "    <tr>\n",
       "      <th>4</th>\n",
       "      <td>1</td>\n",
       "      <td>5</td>\n",
       "      <td>5</td>\n",
       "      <td>WILLIAMBARR</td>\n",
       "      <td>1</td>\n",
       "      <td>TRUMP</td>\n",
       "      <td>51</td>\n",
       "    </tr>\n",
       "  </tbody>\n",
       "</table>\n",
       "</div>"
      ],
      "text/plain": [
       "  resolution_id entity_id  id_E         name_E  id_R name_R unique_id\n",
       "0             1         1     1    DONALDTRUMP     1  TRUMP        11\n",
       "1             1         2     2  ROBERTMUELLER     1  TRUMP        21\n",
       "2             1         3     3   MICHAELCOHEN     1  TRUMP        31\n",
       "3             1         4     4   CHRISWALLACE     1  TRUMP        41\n",
       "4             1         5     5    WILLIAMBARR     1  TRUMP        51"
      ]
     },
     "execution_count": 17,
     "metadata": {},
     "output_type": "execute_result"
    }
   ],
   "source": [
    "df_train.head()"
   ]
  },
  {
   "cell_type": "code",
   "execution_count": 18,
   "metadata": {},
   "outputs": [
    {
     "data": {
      "text/html": [
       "<div>\n",
       "<style scoped>\n",
       "    .dataframe tbody tr th:only-of-type {\n",
       "        vertical-align: middle;\n",
       "    }\n",
       "\n",
       "    .dataframe tbody tr th {\n",
       "        vertical-align: top;\n",
       "    }\n",
       "\n",
       "    .dataframe thead th {\n",
       "        text-align: right;\n",
       "    }\n",
       "</style>\n",
       "<table border=\"1\" class=\"dataframe\">\n",
       "  <thead>\n",
       "    <tr style=\"text-align: right;\">\n",
       "      <th></th>\n",
       "      <th>resolution_id</th>\n",
       "      <th>entity_id</th>\n",
       "      <th>id_E</th>\n",
       "      <th>name_E</th>\n",
       "      <th>id_R</th>\n",
       "      <th>name_R</th>\n",
       "      <th>unique_id</th>\n",
       "    </tr>\n",
       "  </thead>\n",
       "  <tbody>\n",
       "    <tr>\n",
       "      <th>0</th>\n",
       "      <td>12</td>\n",
       "      <td>1</td>\n",
       "      <td>1</td>\n",
       "      <td>DONALDTRUMP</td>\n",
       "      <td>12</td>\n",
       "      <td>CLINTON</td>\n",
       "      <td>112</td>\n",
       "    </tr>\n",
       "    <tr>\n",
       "      <th>1</th>\n",
       "      <td>12</td>\n",
       "      <td>2</td>\n",
       "      <td>2</td>\n",
       "      <td>ROBERTMUELLER</td>\n",
       "      <td>12</td>\n",
       "      <td>CLINTON</td>\n",
       "      <td>212</td>\n",
       "    </tr>\n",
       "    <tr>\n",
       "      <th>2</th>\n",
       "      <td>12</td>\n",
       "      <td>3</td>\n",
       "      <td>3</td>\n",
       "      <td>MICHAELCOHEN</td>\n",
       "      <td>12</td>\n",
       "      <td>CLINTON</td>\n",
       "      <td>312</td>\n",
       "    </tr>\n",
       "    <tr>\n",
       "      <th>3</th>\n",
       "      <td>12</td>\n",
       "      <td>4</td>\n",
       "      <td>4</td>\n",
       "      <td>CHRISWALLACE</td>\n",
       "      <td>12</td>\n",
       "      <td>CLINTON</td>\n",
       "      <td>412</td>\n",
       "    </tr>\n",
       "    <tr>\n",
       "      <th>4</th>\n",
       "      <td>12</td>\n",
       "      <td>5</td>\n",
       "      <td>5</td>\n",
       "      <td>WILLIAMBARR</td>\n",
       "      <td>12</td>\n",
       "      <td>CLINTON</td>\n",
       "      <td>512</td>\n",
       "    </tr>\n",
       "  </tbody>\n",
       "</table>\n",
       "</div>"
      ],
      "text/plain": [
       "  resolution_id entity_id  id_E         name_E  id_R   name_R unique_id\n",
       "0            12         1     1    DONALDTRUMP    12  CLINTON       112\n",
       "1            12         2     2  ROBERTMUELLER    12  CLINTON       212\n",
       "2            12         3     3   MICHAELCOHEN    12  CLINTON       312\n",
       "3            12         4     4   CHRISWALLACE    12  CLINTON       412\n",
       "4            12         5     5    WILLIAMBARR    12  CLINTON       512"
      ]
     },
     "execution_count": 18,
     "metadata": {},
     "output_type": "execute_result"
    }
   ],
   "source": [
    "df_test.head()"
   ]
  },
  {
   "cell_type": "code",
   "execution_count": 19,
   "metadata": {},
   "outputs": [
    {
     "data": {
      "text/html": [
       "<div>\n",
       "<style scoped>\n",
       "    .dataframe tbody tr th:only-of-type {\n",
       "        vertical-align: middle;\n",
       "    }\n",
       "\n",
       "    .dataframe tbody tr th {\n",
       "        vertical-align: top;\n",
       "    }\n",
       "\n",
       "    .dataframe thead th {\n",
       "        text-align: right;\n",
       "    }\n",
       "</style>\n",
       "<table border=\"1\" class=\"dataframe\">\n",
       "  <thead>\n",
       "    <tr style=\"text-align: right;\">\n",
       "      <th></th>\n",
       "      <th>resolution_id</th>\n",
       "      <th>entity_id</th>\n",
       "      <th>id_E</th>\n",
       "      <th>name_E</th>\n",
       "      <th>id_R</th>\n",
       "      <th>name_R</th>\n",
       "      <th>unique_id</th>\n",
       "    </tr>\n",
       "  </thead>\n",
       "  <tbody>\n",
       "    <tr>\n",
       "      <th>0</th>\n",
       "      <td>12</td>\n",
       "      <td>1</td>\n",
       "      <td>1</td>\n",
       "      <td>DONALDTRUMP</td>\n",
       "      <td>12</td>\n",
       "      <td>HILLARYCLINTON</td>\n",
       "      <td>112</td>\n",
       "    </tr>\n",
       "    <tr>\n",
       "      <th>1</th>\n",
       "      <td>12</td>\n",
       "      <td>2</td>\n",
       "      <td>2</td>\n",
       "      <td>ROBERTMUELLER</td>\n",
       "      <td>12</td>\n",
       "      <td>HILLARYCLINTON</td>\n",
       "      <td>212</td>\n",
       "    </tr>\n",
       "    <tr>\n",
       "      <th>2</th>\n",
       "      <td>12</td>\n",
       "      <td>3</td>\n",
       "      <td>3</td>\n",
       "      <td>MICHAELCOHEN</td>\n",
       "      <td>12</td>\n",
       "      <td>HILLARYCLINTON</td>\n",
       "      <td>312</td>\n",
       "    </tr>\n",
       "    <tr>\n",
       "      <th>3</th>\n",
       "      <td>12</td>\n",
       "      <td>4</td>\n",
       "      <td>4</td>\n",
       "      <td>CHRISWALLACE</td>\n",
       "      <td>12</td>\n",
       "      <td>HILLARYCLINTON</td>\n",
       "      <td>412</td>\n",
       "    </tr>\n",
       "    <tr>\n",
       "      <th>4</th>\n",
       "      <td>12</td>\n",
       "      <td>5</td>\n",
       "      <td>5</td>\n",
       "      <td>WILLIAMBARR</td>\n",
       "      <td>12</td>\n",
       "      <td>HILLARYCLINTON</td>\n",
       "      <td>512</td>\n",
       "    </tr>\n",
       "  </tbody>\n",
       "</table>\n",
       "</div>"
      ],
      "text/plain": [
       "  resolution_id entity_id  id_E         name_E  id_R          name_R unique_id\n",
       "0            12         1     1    DONALDTRUMP    12  HILLARYCLINTON       112\n",
       "1            12         2     2  ROBERTMUELLER    12  HILLARYCLINTON       212\n",
       "2            12         3     3   MICHAELCOHEN    12  HILLARYCLINTON       312\n",
       "3            12         4     4   CHRISWALLACE    12  HILLARYCLINTON       412\n",
       "4            12         5     5    WILLIAMBARR    12  HILLARYCLINTON       512"
      ]
     },
     "execution_count": 19,
     "metadata": {},
     "output_type": "execute_result"
    }
   ],
   "source": [
    "df_test_v2.head()"
   ]
  },
  {
   "cell_type": "code",
   "execution_count": 20,
   "metadata": {},
   "outputs": [],
   "source": [
    "def either_string_is_null(str1,str2):\n",
    "        if pd.isnull(str1) or pd.isnull(str2):\n",
    "            return True\n",
    "        else:\n",
    "            return False"
   ]
  },
  {
   "cell_type": "code",
   "execution_count": 21,
   "metadata": {},
   "outputs": [],
   "source": [
    "def aff(str1,str2):\n",
    "        if either_string_is_null(str1,str2):\n",
    "            return np.nan\n",
    "        else:\n",
    "            return affinegap.affineGapDistance(str1,str2)"
   ]
  },
  {
   "cell_type": "code",
   "execution_count": 22,
   "metadata": {},
   "outputs": [],
   "source": [
    "def lev(str1,str2):\n",
    "        if either_string_is_null(str1,str2):\n",
    "            return np.nan\n",
    "        else:\n",
    "            return lv.distance(str1, str2)"
   ]
  },
  {
   "cell_type": "code",
   "execution_count": 23,
   "metadata": {},
   "outputs": [],
   "source": [
    "def sim(str1, str2):\n",
    "        if either_string_is_null(str1,str2):\n",
    "            return np.nan\n",
    "        else:\n",
    "            return SequenceMatcher(None, str1, str2).ratio()"
   ]
  },
  {
   "cell_type": "code",
   "execution_count": 24,
   "metadata": {},
   "outputs": [],
   "source": [
    "def lenlongcommon(str1,str2):\n",
    "        if either_string_is_null(str1,str2):\n",
    "            return np.nan\n",
    "        else:\n",
    "        # initialize SequenceMatcher object with\n",
    "         # input string\n",
    "            seqMatch = SequenceMatcher(None,str1,str2)\n",
    "\n",
    "             # find match of longest sub-string\n",
    "             # output will be like Match(a=0, b=0, size=5)\n",
    "            match = seqMatch.find_longest_match(0, len(str1), 0, len(str2))\n",
    "        return match.size"
   ]
  },
  {
   "cell_type": "code",
   "execution_count": 25,
   "metadata": {},
   "outputs": [],
   "source": [
    "def add_features(df):\n",
    "        #FEATURE: PHONE\n",
    "\n",
    "        #perfect match\n",
    "        df['name_perfect_match'] = df['name_E'] == df['name_R']\n",
    "\n",
    "        a = timeit.default_timer()\n",
    "\n",
    "        col = 'name'\n",
    "        print('aff,lev,sim,llc')\n",
    "        print(col)\n",
    "        df[col+'_aff'] = df[[col+'_E',col+'_R']].apply(lambda x: aff(*x), axis=1)\n",
    "        #Your statements here\n",
    "\n",
    "        b = timeit.default_timer()\n",
    "        print(b-a)\n",
    "\n",
    "        df[col+'_lev'] = df[[col+'_E',col+'_R']].apply(lambda x: lev(*x), axis=1)\n",
    "        c = timeit.default_timer()\n",
    "        print(c-b)\n",
    "\n",
    "        df[col+'_sim'] = df[[col+'_E',col+'_R']].apply(lambda x: sim(*x), axis=1)\n",
    "        d = timeit.default_timer()\n",
    "        print(d-c)\n",
    "\n",
    "        df[col+'_llc'] = df[[col+'_E',col+'_R']].apply(lambda x: lenlongcommon(*x), axis=1)\n",
    "        e = timeit.default_timer()\n",
    "        print(e-d)\n",
    "\n",
    "        return df"
   ]
  },
  {
   "cell_type": "code",
   "execution_count": 26,
   "metadata": {},
   "outputs": [
    {
     "name": "stdout",
     "output_type": "stream",
     "text": [
      "aff,lev,sim,llc\n",
      "name\n",
      "5.324179084999999\n",
      "4.841180413\n",
      "13.434722295\n",
      "7.949403365000002\n",
      "aff,lev,sim,llc\n",
      "name\n",
      "0.08411376000000104\n",
      "0.07445619599999986\n",
      "0.23383232999999848\n",
      "0.13581671000000028\n",
      "aff,lev,sim,llc\n",
      "name\n",
      "0.08377198099999816\n",
      "0.08211236900000074\n",
      "0.2321704179999955\n",
      "0.14243995700000056\n"
     ]
    }
   ],
   "source": [
    "df_train_with_created_features = add_features(df_train)\n",
    "df_test_with_created_features = add_features(df_test)\n",
    "df_test_with_created_features_v2 = add_features(df_test_v2)"
   ]
  },
  {
   "cell_type": "code",
   "execution_count": 27,
   "metadata": {},
   "outputs": [],
   "source": [
    "# df_train_with_created_features['name_sim'] = df_train_with_created_features['name_sim'] * 100\n",
    "# df_test_with_created_features['name_sim'] = df_test_with_created_features['name_sim'] * 100"
   ]
  },
  {
   "cell_type": "code",
   "execution_count": 28,
   "metadata": {},
   "outputs": [
    {
     "data": {
      "text/html": [
       "<div>\n",
       "<style scoped>\n",
       "    .dataframe tbody tr th:only-of-type {\n",
       "        vertical-align: middle;\n",
       "    }\n",
       "\n",
       "    .dataframe tbody tr th {\n",
       "        vertical-align: top;\n",
       "    }\n",
       "\n",
       "    .dataframe thead th {\n",
       "        text-align: right;\n",
       "    }\n",
       "</style>\n",
       "<table border=\"1\" class=\"dataframe\">\n",
       "  <thead>\n",
       "    <tr style=\"text-align: right;\">\n",
       "      <th></th>\n",
       "      <th>resolution_id</th>\n",
       "      <th>entity_id</th>\n",
       "      <th>id_E</th>\n",
       "      <th>name_E</th>\n",
       "      <th>id_R</th>\n",
       "      <th>name_R</th>\n",
       "      <th>unique_id</th>\n",
       "      <th>name_perfect_match</th>\n",
       "      <th>name_aff</th>\n",
       "      <th>name_lev</th>\n",
       "      <th>name_sim</th>\n",
       "      <th>name_llc</th>\n",
       "    </tr>\n",
       "  </thead>\n",
       "  <tbody>\n",
       "    <tr>\n",
       "      <th>0</th>\n",
       "      <td>1</td>\n",
       "      <td>1</td>\n",
       "      <td>1</td>\n",
       "      <td>DONALDTRUMP</td>\n",
       "      <td>1</td>\n",
       "      <td>TRUMP</td>\n",
       "      <td>11</td>\n",
       "      <td>False</td>\n",
       "      <td>54.750</td>\n",
       "      <td>6</td>\n",
       "      <td>0.625000</td>\n",
       "      <td>5</td>\n",
       "    </tr>\n",
       "    <tr>\n",
       "      <th>1</th>\n",
       "      <td>1</td>\n",
       "      <td>2</td>\n",
       "      <td>2</td>\n",
       "      <td>ROBERTMUELLER</td>\n",
       "      <td>1</td>\n",
       "      <td>TRUMP</td>\n",
       "      <td>21</td>\n",
       "      <td>False</td>\n",
       "      <td>63.250</td>\n",
       "      <td>11</td>\n",
       "      <td>0.222222</td>\n",
       "      <td>1</td>\n",
       "    </tr>\n",
       "    <tr>\n",
       "      <th>2</th>\n",
       "      <td>1</td>\n",
       "      <td>3</td>\n",
       "      <td>3</td>\n",
       "      <td>MICHAELCOHEN</td>\n",
       "      <td>1</td>\n",
       "      <td>TRUMP</td>\n",
       "      <td>31</td>\n",
       "      <td>False</td>\n",
       "      <td>62.375</td>\n",
       "      <td>12</td>\n",
       "      <td>0.117647</td>\n",
       "      <td>1</td>\n",
       "    </tr>\n",
       "    <tr>\n",
       "      <th>3</th>\n",
       "      <td>1</td>\n",
       "      <td>4</td>\n",
       "      <td>4</td>\n",
       "      <td>CHRISWALLACE</td>\n",
       "      <td>1</td>\n",
       "      <td>TRUMP</td>\n",
       "      <td>41</td>\n",
       "      <td>False</td>\n",
       "      <td>62.375</td>\n",
       "      <td>11</td>\n",
       "      <td>0.117647</td>\n",
       "      <td>1</td>\n",
       "    </tr>\n",
       "    <tr>\n",
       "      <th>4</th>\n",
       "      <td>1</td>\n",
       "      <td>5</td>\n",
       "      <td>5</td>\n",
       "      <td>WILLIAMBARR</td>\n",
       "      <td>1</td>\n",
       "      <td>TRUMP</td>\n",
       "      <td>51</td>\n",
       "      <td>False</td>\n",
       "      <td>61.500</td>\n",
       "      <td>10</td>\n",
       "      <td>0.125000</td>\n",
       "      <td>1</td>\n",
       "    </tr>\n",
       "  </tbody>\n",
       "</table>\n",
       "</div>"
      ],
      "text/plain": [
       "  resolution_id entity_id  id_E         name_E  id_R name_R unique_id  \\\n",
       "0             1         1     1    DONALDTRUMP     1  TRUMP        11   \n",
       "1             1         2     2  ROBERTMUELLER     1  TRUMP        21   \n",
       "2             1         3     3   MICHAELCOHEN     1  TRUMP        31   \n",
       "3             1         4     4   CHRISWALLACE     1  TRUMP        41   \n",
       "4             1         5     5    WILLIAMBARR     1  TRUMP        51   \n",
       "\n",
       "   name_perfect_match  name_aff  name_lev  name_sim  name_llc  \n",
       "0               False    54.750         6  0.625000         5  \n",
       "1               False    63.250        11  0.222222         1  \n",
       "2               False    62.375        12  0.117647         1  \n",
       "3               False    62.375        11  0.117647         1  \n",
       "4               False    61.500        10  0.125000         1  "
      ]
     },
     "execution_count": 28,
     "metadata": {},
     "output_type": "execute_result"
    }
   ],
   "source": [
    "df_train_with_created_features.head()"
   ]
  },
  {
   "cell_type": "code",
   "execution_count": 29,
   "metadata": {},
   "outputs": [
    {
     "data": {
      "text/html": [
       "<div>\n",
       "<style scoped>\n",
       "    .dataframe tbody tr th:only-of-type {\n",
       "        vertical-align: middle;\n",
       "    }\n",
       "\n",
       "    .dataframe tbody tr th {\n",
       "        vertical-align: top;\n",
       "    }\n",
       "\n",
       "    .dataframe thead th {\n",
       "        text-align: right;\n",
       "    }\n",
       "</style>\n",
       "<table border=\"1\" class=\"dataframe\">\n",
       "  <thead>\n",
       "    <tr style=\"text-align: right;\">\n",
       "      <th></th>\n",
       "      <th>resolution_id</th>\n",
       "      <th>entity_id</th>\n",
       "      <th>id_E</th>\n",
       "      <th>name_E</th>\n",
       "      <th>id_R</th>\n",
       "      <th>name_R</th>\n",
       "      <th>unique_id</th>\n",
       "      <th>name_perfect_match</th>\n",
       "      <th>name_aff</th>\n",
       "      <th>name_lev</th>\n",
       "      <th>name_sim</th>\n",
       "      <th>name_llc</th>\n",
       "    </tr>\n",
       "  </thead>\n",
       "  <tbody>\n",
       "    <tr>\n",
       "      <th>0</th>\n",
       "      <td>12</td>\n",
       "      <td>1</td>\n",
       "      <td>1</td>\n",
       "      <td>DONALDTRUMP</td>\n",
       "      <td>12</td>\n",
       "      <td>CLINTON</td>\n",
       "      <td>112</td>\n",
       "      <td>False</td>\n",
       "      <td>81.750</td>\n",
       "      <td>10</td>\n",
       "      <td>0.222222</td>\n",
       "      <td>2</td>\n",
       "    </tr>\n",
       "    <tr>\n",
       "      <th>1</th>\n",
       "      <td>12</td>\n",
       "      <td>2</td>\n",
       "      <td>2</td>\n",
       "      <td>ROBERTMUELLER</td>\n",
       "      <td>12</td>\n",
       "      <td>CLINTON</td>\n",
       "      <td>212</td>\n",
       "      <td>False</td>\n",
       "      <td>83.500</td>\n",
       "      <td>12</td>\n",
       "      <td>0.100000</td>\n",
       "      <td>1</td>\n",
       "    </tr>\n",
       "    <tr>\n",
       "      <th>2</th>\n",
       "      <td>12</td>\n",
       "      <td>3</td>\n",
       "      <td>3</td>\n",
       "      <td>MICHAELCOHEN</td>\n",
       "      <td>12</td>\n",
       "      <td>CLINTON</td>\n",
       "      <td>312</td>\n",
       "      <td>False</td>\n",
       "      <td>76.125</td>\n",
       "      <td>9</td>\n",
       "      <td>0.315789</td>\n",
       "      <td>1</td>\n",
       "    </tr>\n",
       "    <tr>\n",
       "      <th>3</th>\n",
       "      <td>12</td>\n",
       "      <td>4</td>\n",
       "      <td>4</td>\n",
       "      <td>CHRISWALLACE</td>\n",
       "      <td>12</td>\n",
       "      <td>CLINTON</td>\n",
       "      <td>412</td>\n",
       "      <td>False</td>\n",
       "      <td>72.625</td>\n",
       "      <td>10</td>\n",
       "      <td>0.210526</td>\n",
       "      <td>1</td>\n",
       "    </tr>\n",
       "    <tr>\n",
       "      <th>4</th>\n",
       "      <td>12</td>\n",
       "      <td>5</td>\n",
       "      <td>5</td>\n",
       "      <td>WILLIAMBARR</td>\n",
       "      <td>12</td>\n",
       "      <td>CLINTON</td>\n",
       "      <td>512</td>\n",
       "      <td>False</td>\n",
       "      <td>81.750</td>\n",
       "      <td>9</td>\n",
       "      <td>0.222222</td>\n",
       "      <td>2</td>\n",
       "    </tr>\n",
       "  </tbody>\n",
       "</table>\n",
       "</div>"
      ],
      "text/plain": [
       "  resolution_id entity_id  id_E         name_E  id_R   name_R unique_id  \\\n",
       "0            12         1     1    DONALDTRUMP    12  CLINTON       112   \n",
       "1            12         2     2  ROBERTMUELLER    12  CLINTON       212   \n",
       "2            12         3     3   MICHAELCOHEN    12  CLINTON       312   \n",
       "3            12         4     4   CHRISWALLACE    12  CLINTON       412   \n",
       "4            12         5     5    WILLIAMBARR    12  CLINTON       512   \n",
       "\n",
       "   name_perfect_match  name_aff  name_lev  name_sim  name_llc  \n",
       "0               False    81.750        10  0.222222         2  \n",
       "1               False    83.500        12  0.100000         1  \n",
       "2               False    76.125         9  0.315789         1  \n",
       "3               False    72.625        10  0.210526         1  \n",
       "4               False    81.750         9  0.222222         2  "
      ]
     },
     "execution_count": 29,
     "metadata": {},
     "output_type": "execute_result"
    }
   ],
   "source": [
    "df_test_with_created_features.head()"
   ]
  },
  {
   "cell_type": "code",
   "execution_count": 30,
   "metadata": {},
   "outputs": [
    {
     "data": {
      "text/html": [
       "<div>\n",
       "<style scoped>\n",
       "    .dataframe tbody tr th:only-of-type {\n",
       "        vertical-align: middle;\n",
       "    }\n",
       "\n",
       "    .dataframe tbody tr th {\n",
       "        vertical-align: top;\n",
       "    }\n",
       "\n",
       "    .dataframe thead th {\n",
       "        text-align: right;\n",
       "    }\n",
       "</style>\n",
       "<table border=\"1\" class=\"dataframe\">\n",
       "  <thead>\n",
       "    <tr style=\"text-align: right;\">\n",
       "      <th></th>\n",
       "      <th>resolution_id</th>\n",
       "      <th>entity_id</th>\n",
       "      <th>id_E</th>\n",
       "      <th>name_E</th>\n",
       "      <th>id_R</th>\n",
       "      <th>name_R</th>\n",
       "      <th>unique_id</th>\n",
       "      <th>name_perfect_match</th>\n",
       "      <th>name_aff</th>\n",
       "      <th>name_lev</th>\n",
       "      <th>name_sim</th>\n",
       "      <th>name_llc</th>\n",
       "    </tr>\n",
       "  </thead>\n",
       "  <tbody>\n",
       "    <tr>\n",
       "      <th>0</th>\n",
       "      <td>12</td>\n",
       "      <td>1</td>\n",
       "      <td>1</td>\n",
       "      <td>DONALDTRUMP</td>\n",
       "      <td>12</td>\n",
       "      <td>HILLARYCLINTON</td>\n",
       "      <td>112</td>\n",
       "      <td>False</td>\n",
       "      <td>124.875</td>\n",
       "      <td>13</td>\n",
       "      <td>0.160000</td>\n",
       "      <td>2</td>\n",
       "    </tr>\n",
       "    <tr>\n",
       "      <th>1</th>\n",
       "      <td>12</td>\n",
       "      <td>2</td>\n",
       "      <td>2</td>\n",
       "      <td>ROBERTMUELLER</td>\n",
       "      <td>12</td>\n",
       "      <td>HILLARYCLINTON</td>\n",
       "      <td>212</td>\n",
       "      <td>False</td>\n",
       "      <td>145.125</td>\n",
       "      <td>13</td>\n",
       "      <td>0.222222</td>\n",
       "      <td>2</td>\n",
       "    </tr>\n",
       "    <tr>\n",
       "      <th>2</th>\n",
       "      <td>12</td>\n",
       "      <td>3</td>\n",
       "      <td>3</td>\n",
       "      <td>MICHAELCOHEN</td>\n",
       "      <td>12</td>\n",
       "      <td>HILLARYCLINTON</td>\n",
       "      <td>312</td>\n",
       "      <td>False</td>\n",
       "      <td>105.000</td>\n",
       "      <td>10</td>\n",
       "      <td>0.384615</td>\n",
       "      <td>1</td>\n",
       "    </tr>\n",
       "    <tr>\n",
       "      <th>3</th>\n",
       "      <td>12</td>\n",
       "      <td>4</td>\n",
       "      <td>4</td>\n",
       "      <td>CHRISWALLACE</td>\n",
       "      <td>12</td>\n",
       "      <td>HILLARYCLINTON</td>\n",
       "      <td>412</td>\n",
       "      <td>False</td>\n",
       "      <td>125.000</td>\n",
       "      <td>12</td>\n",
       "      <td>0.461538</td>\n",
       "      <td>3</td>\n",
       "    </tr>\n",
       "    <tr>\n",
       "      <th>4</th>\n",
       "      <td>12</td>\n",
       "      <td>5</td>\n",
       "      <td>5</td>\n",
       "      <td>WILLIAMBARR</td>\n",
       "      <td>12</td>\n",
       "      <td>HILLARYCLINTON</td>\n",
       "      <td>512</td>\n",
       "      <td>False</td>\n",
       "      <td>94.875</td>\n",
       "      <td>11</td>\n",
       "      <td>0.400000</td>\n",
       "      <td>3</td>\n",
       "    </tr>\n",
       "  </tbody>\n",
       "</table>\n",
       "</div>"
      ],
      "text/plain": [
       "  resolution_id entity_id  id_E         name_E  id_R          name_R  \\\n",
       "0            12         1     1    DONALDTRUMP    12  HILLARYCLINTON   \n",
       "1            12         2     2  ROBERTMUELLER    12  HILLARYCLINTON   \n",
       "2            12         3     3   MICHAELCOHEN    12  HILLARYCLINTON   \n",
       "3            12         4     4   CHRISWALLACE    12  HILLARYCLINTON   \n",
       "4            12         5     5    WILLIAMBARR    12  HILLARYCLINTON   \n",
       "\n",
       "  unique_id  name_perfect_match  name_aff  name_lev  name_sim  name_llc  \n",
       "0       112               False   124.875        13  0.160000         2  \n",
       "1       212               False   145.125        13  0.222222         2  \n",
       "2       312               False   105.000        10  0.384615         1  \n",
       "3       412               False   125.000        12  0.461538         3  \n",
       "4       512               False    94.875        11  0.400000         3  "
      ]
     },
     "execution_count": 30,
     "metadata": {},
     "output_type": "execute_result"
    }
   ],
   "source": [
    "df_test_with_created_features_v2.head()"
   ]
  },
  {
   "cell_type": "code",
   "execution_count": 31,
   "metadata": {},
   "outputs": [],
   "source": [
    "#Add matches column\n",
    "matches_path = pd.read_csv('data/match/match.csv')\n",
    "matches_path['entity_id'] = matches_path['entity_id'].astype(str)\n",
    "matches_path['resolution_id'] = matches_path['resolution_id'].astype(str)\n",
    "matches = matches_path.rename(index=str,columns={'entity_id':'true_entity_id'})\n",
    "df_train_with_created_features['resolution_id'] = df_train_with_created_features['resolution_id'].astype(str)\n",
    "df_train_with_created_features_with_EID = df_train_with_created_features.merge(matches, on='resolution_id', how='inner')\n"
   ]
  },
  {
   "cell_type": "code",
   "execution_count": 32,
   "metadata": {},
   "outputs": [
    {
     "data": {
      "text/html": [
       "<div>\n",
       "<style scoped>\n",
       "    .dataframe tbody tr th:only-of-type {\n",
       "        vertical-align: middle;\n",
       "    }\n",
       "\n",
       "    .dataframe tbody tr th {\n",
       "        vertical-align: top;\n",
       "    }\n",
       "\n",
       "    .dataframe thead th {\n",
       "        text-align: right;\n",
       "    }\n",
       "</style>\n",
       "<table border=\"1\" class=\"dataframe\">\n",
       "  <thead>\n",
       "    <tr style=\"text-align: right;\">\n",
       "      <th></th>\n",
       "      <th>resolution_id</th>\n",
       "      <th>entity_id</th>\n",
       "      <th>id_E</th>\n",
       "      <th>name_E</th>\n",
       "      <th>id_R</th>\n",
       "      <th>name_R</th>\n",
       "      <th>unique_id</th>\n",
       "      <th>name_perfect_match</th>\n",
       "      <th>name_aff</th>\n",
       "      <th>name_lev</th>\n",
       "      <th>name_sim</th>\n",
       "      <th>name_llc</th>\n",
       "      <th>true_entity_id</th>\n",
       "    </tr>\n",
       "  </thead>\n",
       "  <tbody>\n",
       "    <tr>\n",
       "      <th>0</th>\n",
       "      <td>1</td>\n",
       "      <td>1</td>\n",
       "      <td>1</td>\n",
       "      <td>DONALDTRUMP</td>\n",
       "      <td>1</td>\n",
       "      <td>TRUMP</td>\n",
       "      <td>11</td>\n",
       "      <td>False</td>\n",
       "      <td>54.750</td>\n",
       "      <td>6</td>\n",
       "      <td>0.625000</td>\n",
       "      <td>5</td>\n",
       "      <td>1</td>\n",
       "    </tr>\n",
       "    <tr>\n",
       "      <th>1</th>\n",
       "      <td>1</td>\n",
       "      <td>2</td>\n",
       "      <td>2</td>\n",
       "      <td>ROBERTMUELLER</td>\n",
       "      <td>1</td>\n",
       "      <td>TRUMP</td>\n",
       "      <td>21</td>\n",
       "      <td>False</td>\n",
       "      <td>63.250</td>\n",
       "      <td>11</td>\n",
       "      <td>0.222222</td>\n",
       "      <td>1</td>\n",
       "      <td>1</td>\n",
       "    </tr>\n",
       "    <tr>\n",
       "      <th>2</th>\n",
       "      <td>1</td>\n",
       "      <td>3</td>\n",
       "      <td>3</td>\n",
       "      <td>MICHAELCOHEN</td>\n",
       "      <td>1</td>\n",
       "      <td>TRUMP</td>\n",
       "      <td>31</td>\n",
       "      <td>False</td>\n",
       "      <td>62.375</td>\n",
       "      <td>12</td>\n",
       "      <td>0.117647</td>\n",
       "      <td>1</td>\n",
       "      <td>1</td>\n",
       "    </tr>\n",
       "    <tr>\n",
       "      <th>3</th>\n",
       "      <td>1</td>\n",
       "      <td>4</td>\n",
       "      <td>4</td>\n",
       "      <td>CHRISWALLACE</td>\n",
       "      <td>1</td>\n",
       "      <td>TRUMP</td>\n",
       "      <td>41</td>\n",
       "      <td>False</td>\n",
       "      <td>62.375</td>\n",
       "      <td>11</td>\n",
       "      <td>0.117647</td>\n",
       "      <td>1</td>\n",
       "      <td>1</td>\n",
       "    </tr>\n",
       "    <tr>\n",
       "      <th>4</th>\n",
       "      <td>1</td>\n",
       "      <td>5</td>\n",
       "      <td>5</td>\n",
       "      <td>WILLIAMBARR</td>\n",
       "      <td>1</td>\n",
       "      <td>TRUMP</td>\n",
       "      <td>51</td>\n",
       "      <td>False</td>\n",
       "      <td>61.500</td>\n",
       "      <td>10</td>\n",
       "      <td>0.125000</td>\n",
       "      <td>1</td>\n",
       "      <td>1</td>\n",
       "    </tr>\n",
       "  </tbody>\n",
       "</table>\n",
       "</div>"
      ],
      "text/plain": [
       "  resolution_id entity_id  id_E         name_E  id_R name_R unique_id  \\\n",
       "0             1         1     1    DONALDTRUMP     1  TRUMP        11   \n",
       "1             1         2     2  ROBERTMUELLER     1  TRUMP        21   \n",
       "2             1         3     3   MICHAELCOHEN     1  TRUMP        31   \n",
       "3             1         4     4   CHRISWALLACE     1  TRUMP        41   \n",
       "4             1         5     5    WILLIAMBARR     1  TRUMP        51   \n",
       "\n",
       "   name_perfect_match  name_aff  name_lev  name_sim  name_llc true_entity_id  \n",
       "0               False    54.750         6  0.625000         5              1  \n",
       "1               False    63.250        11  0.222222         1              1  \n",
       "2               False    62.375        12  0.117647         1              1  \n",
       "3               False    62.375        11  0.117647         1              1  \n",
       "4               False    61.500        10  0.125000         1              1  "
      ]
     },
     "execution_count": 32,
     "metadata": {},
     "output_type": "execute_result"
    }
   ],
   "source": [
    "df_train_with_created_features_with_EID.head()"
   ]
  },
  {
   "cell_type": "code",
   "execution_count": 33,
   "metadata": {},
   "outputs": [],
   "source": [
    "#add a target\n",
    "df_train_with_created_features_with_EID['target'] = df_train_with_created_features_with_EID['entity_id']==df_train_with_created_features_with_EID['true_entity_id']\n",
    "\n",
    "features_to_keep = ['name_perfect_match']+[col for col in df_train_with_created_features_with_EID.columns if 'aff' in col or 'lev' in col or 'sim' in col or 'llc' in col]\n",
    "\n",
    "#clean train data\n",
    "X_train = df_train_with_created_features_with_EID[features_to_keep]\n",
    "id_mapping_train = df_train_with_created_features_with_EID[['entity_id', 'resolution_id']].astype(int)\n",
    "# clean test data\n",
    "X_test = df_test_with_created_features[features_to_keep]\n",
    "id_mapping_test = df_test_with_created_features[['entity_id', 'resolution_id']].astype(int)\n",
    "# clean test data v2\n",
    "X_test_v2 = df_test_with_created_features_v2[features_to_keep]\n",
    "id_mapping_test_v2 = df_test_with_created_features_v2[['entity_id', 'resolution_id']].astype(int)\n",
    "#Create target\n",
    "target = df_train_with_created_features_with_EID['target']\n",
    "\n",
    "#deal with NaN to pass into the random forest\n",
    "X_train = X_train.fillna(-10000, axis =1).astype(int)\n",
    "X_test = X_test.fillna(-10000, axis =1).astype(int)\n",
    "X_test_v2 = X_test_v2.fillna(-10000, axis =1).astype(int)"
   ]
  },
  {
   "cell_type": "code",
   "execution_count": 34,
   "metadata": {},
   "outputs": [
    {
     "data": {
      "text/plain": [
       "0     True\n",
       "1    False\n",
       "2    False\n",
       "3    False\n",
       "4    False\n",
       "Name: target, dtype: bool"
      ]
     },
     "execution_count": 34,
     "metadata": {},
     "output_type": "execute_result"
    }
   ],
   "source": [
    "target.head()\n"
   ]
  },
  {
   "cell_type": "code",
   "execution_count": 35,
   "metadata": {},
   "outputs": [
    {
     "data": {
      "text/html": [
       "<div>\n",
       "<style scoped>\n",
       "    .dataframe tbody tr th:only-of-type {\n",
       "        vertical-align: middle;\n",
       "    }\n",
       "\n",
       "    .dataframe tbody tr th {\n",
       "        vertical-align: top;\n",
       "    }\n",
       "\n",
       "    .dataframe thead th {\n",
       "        text-align: right;\n",
       "    }\n",
       "</style>\n",
       "<table border=\"1\" class=\"dataframe\">\n",
       "  <thead>\n",
       "    <tr style=\"text-align: right;\">\n",
       "      <th></th>\n",
       "      <th>name_perfect_match</th>\n",
       "      <th>name_aff</th>\n",
       "      <th>name_lev</th>\n",
       "      <th>name_sim</th>\n",
       "      <th>name_llc</th>\n",
       "    </tr>\n",
       "  </thead>\n",
       "  <tbody>\n",
       "    <tr>\n",
       "      <th>0</th>\n",
       "      <td>0</td>\n",
       "      <td>54</td>\n",
       "      <td>6</td>\n",
       "      <td>0</td>\n",
       "      <td>5</td>\n",
       "    </tr>\n",
       "    <tr>\n",
       "      <th>1</th>\n",
       "      <td>0</td>\n",
       "      <td>63</td>\n",
       "      <td>11</td>\n",
       "      <td>0</td>\n",
       "      <td>1</td>\n",
       "    </tr>\n",
       "    <tr>\n",
       "      <th>2</th>\n",
       "      <td>0</td>\n",
       "      <td>62</td>\n",
       "      <td>12</td>\n",
       "      <td>0</td>\n",
       "      <td>1</td>\n",
       "    </tr>\n",
       "    <tr>\n",
       "      <th>3</th>\n",
       "      <td>0</td>\n",
       "      <td>62</td>\n",
       "      <td>11</td>\n",
       "      <td>0</td>\n",
       "      <td>1</td>\n",
       "    </tr>\n",
       "    <tr>\n",
       "      <th>4</th>\n",
       "      <td>0</td>\n",
       "      <td>61</td>\n",
       "      <td>10</td>\n",
       "      <td>0</td>\n",
       "      <td>1</td>\n",
       "    </tr>\n",
       "  </tbody>\n",
       "</table>\n",
       "</div>"
      ],
      "text/plain": [
       "   name_perfect_match  name_aff  name_lev  name_sim  name_llc\n",
       "0                   0        54         6         0         5\n",
       "1                   0        63        11         0         1\n",
       "2                   0        62        12         0         1\n",
       "3                   0        62        11         0         1\n",
       "4                   0        61        10         0         1"
      ]
     },
     "execution_count": 35,
     "metadata": {},
     "output_type": "execute_result"
    }
   ],
   "source": [
    "X_train.head()"
   ]
  },
  {
   "cell_type": "code",
   "execution_count": 36,
   "metadata": {},
   "outputs": [
    {
     "data": {
      "text/html": [
       "<div>\n",
       "<style scoped>\n",
       "    .dataframe tbody tr th:only-of-type {\n",
       "        vertical-align: middle;\n",
       "    }\n",
       "\n",
       "    .dataframe tbody tr th {\n",
       "        vertical-align: top;\n",
       "    }\n",
       "\n",
       "    .dataframe thead th {\n",
       "        text-align: right;\n",
       "    }\n",
       "</style>\n",
       "<table border=\"1\" class=\"dataframe\">\n",
       "  <thead>\n",
       "    <tr style=\"text-align: right;\">\n",
       "      <th></th>\n",
       "      <th>name_perfect_match</th>\n",
       "      <th>name_aff</th>\n",
       "      <th>name_lev</th>\n",
       "      <th>name_sim</th>\n",
       "      <th>name_llc</th>\n",
       "    </tr>\n",
       "  </thead>\n",
       "  <tbody>\n",
       "    <tr>\n",
       "      <th>0</th>\n",
       "      <td>0</td>\n",
       "      <td>124</td>\n",
       "      <td>13</td>\n",
       "      <td>0</td>\n",
       "      <td>2</td>\n",
       "    </tr>\n",
       "    <tr>\n",
       "      <th>1</th>\n",
       "      <td>0</td>\n",
       "      <td>145</td>\n",
       "      <td>13</td>\n",
       "      <td>0</td>\n",
       "      <td>2</td>\n",
       "    </tr>\n",
       "    <tr>\n",
       "      <th>2</th>\n",
       "      <td>0</td>\n",
       "      <td>105</td>\n",
       "      <td>10</td>\n",
       "      <td>0</td>\n",
       "      <td>1</td>\n",
       "    </tr>\n",
       "    <tr>\n",
       "      <th>3</th>\n",
       "      <td>0</td>\n",
       "      <td>125</td>\n",
       "      <td>12</td>\n",
       "      <td>0</td>\n",
       "      <td>3</td>\n",
       "    </tr>\n",
       "    <tr>\n",
       "      <th>4</th>\n",
       "      <td>0</td>\n",
       "      <td>94</td>\n",
       "      <td>11</td>\n",
       "      <td>0</td>\n",
       "      <td>3</td>\n",
       "    </tr>\n",
       "  </tbody>\n",
       "</table>\n",
       "</div>"
      ],
      "text/plain": [
       "   name_perfect_match  name_aff  name_lev  name_sim  name_llc\n",
       "0                   0       124        13         0         2\n",
       "1                   0       145        13         0         2\n",
       "2                   0       105        10         0         1\n",
       "3                   0       125        12         0         3\n",
       "4                   0        94        11         0         3"
      ]
     },
     "execution_count": 36,
     "metadata": {},
     "output_type": "execute_result"
    }
   ],
   "source": [
    "X_test_v2.head()"
   ]
  },
  {
   "cell_type": "code",
   "execution_count": 37,
   "metadata": {},
   "outputs": [],
   "source": [
    "import sklearn\n",
    "from sklearn.model_selection import GridSearchCV\n",
    "from sklearn.ensemble import RandomForestClassifier\n",
    "from sklearn.model_selection import StratifiedKFold"
   ]
  },
  {
   "cell_type": "code",
   "execution_count": 38,
   "metadata": {},
   "outputs": [],
   "source": [
    "from sklearn.feature_selection import SelectFromModel\n",
    "clf1 = RandomForestClassifier()\n",
    "\n",
    "# Set a minimum threshold of 0.25\n",
    "sfm = SelectFromModel(clf1, threshold='.15*mean')\n",
    "sfm.fit(X_train, target)\n",
    "X_train = sfm.transform(X_train)\n",
    "X_test = sfm.transform(X_test)\n",
    "X_test_v2 = sfm.transform(X_test_v2)\n",
    "param_grid = {\"max_depth\": [None],\n",
    "              \"max_features\": ['log2','sqrt'],\n",
    "              \"bootstrap\": [True, False],\n",
    "              \"criterion\": [\"gini\", \"entropy\"],\n",
    "             \"class_weight\": [None]}\n"
   ]
  },
  {
   "cell_type": "code",
   "execution_count": 39,
   "metadata": {},
   "outputs": [
    {
     "name": "stdout",
     "output_type": "stream",
     "text": [
      "{'mean_fit_time': array([0.02257093, 0.01989023, 0.01575947, 0.01567213, 0.01457461,\n",
      "       0.01435701, 0.01368054, 0.01427913]), 'std_fit_time': array([0.00140867, 0.00179168, 0.00026369, 0.00036724, 0.00063865,\n",
      "       0.00053945, 0.00045135, 0.00123452]), 'mean_score_time': array([0.00278131, 0.00234373, 0.00203514, 0.00201527, 0.00197117,\n",
      "       0.00195901, 0.00195138, 0.00232442]), 'std_score_time': array([2.81321149e-04, 2.18988240e-04, 1.76010407e-05, 4.82942647e-05,\n",
      "       5.41307610e-05, 7.11655386e-05, 1.99554436e-05, 3.79431781e-04]), 'param_bootstrap': masked_array(data=[True, True, True, True, False, False, False, False],\n",
      "             mask=[False, False, False, False, False, False, False, False],\n",
      "       fill_value='?',\n",
      "            dtype=object), 'param_class_weight': masked_array(data=[None, None, None, None, None, None, None, None],\n",
      "             mask=[False, False, False, False, False, False, False, False],\n",
      "       fill_value='?',\n",
      "            dtype=object), 'param_criterion': masked_array(data=['gini', 'gini', 'entropy', 'entropy', 'gini', 'gini',\n",
      "                   'entropy', 'entropy'],\n",
      "             mask=[False, False, False, False, False, False, False, False],\n",
      "       fill_value='?',\n",
      "            dtype=object), 'param_max_depth': masked_array(data=[None, None, None, None, None, None, None, None],\n",
      "             mask=[False, False, False, False, False, False, False, False],\n",
      "       fill_value='?',\n",
      "            dtype=object), 'param_max_features': masked_array(data=['log2', 'sqrt', 'log2', 'sqrt', 'log2', 'sqrt', 'log2',\n",
      "                   'sqrt'],\n",
      "             mask=[False, False, False, False, False, False, False, False],\n",
      "       fill_value='?',\n",
      "            dtype=object), 'params': [{'bootstrap': True, 'class_weight': None, 'criterion': 'gini', 'max_depth': None, 'max_features': 'log2'}, {'bootstrap': True, 'class_weight': None, 'criterion': 'gini', 'max_depth': None, 'max_features': 'sqrt'}, {'bootstrap': True, 'class_weight': None, 'criterion': 'entropy', 'max_depth': None, 'max_features': 'log2'}, {'bootstrap': True, 'class_weight': None, 'criterion': 'entropy', 'max_depth': None, 'max_features': 'sqrt'}, {'bootstrap': False, 'class_weight': None, 'criterion': 'gini', 'max_depth': None, 'max_features': 'log2'}, {'bootstrap': False, 'class_weight': None, 'criterion': 'gini', 'max_depth': None, 'max_features': 'sqrt'}, {'bootstrap': False, 'class_weight': None, 'criterion': 'entropy', 'max_depth': None, 'max_features': 'log2'}, {'bootstrap': False, 'class_weight': None, 'criterion': 'entropy', 'max_depth': None, 'max_features': 'sqrt'}], 'split0_test_score': array([0.99144324, 0.99144324, 0.99201369, 0.99201369, 0.99144324,\n",
      "       0.99144324, 0.99258414, 0.99258414]), 'split1_test_score': array([0.99429224, 0.99429224, 0.99657534, 0.99657534, 0.99429224,\n",
      "       0.99429224, 0.99429224, 0.99429224]), 'split2_test_score': array([0.99428898, 0.99428898, 0.99486008, 0.99486008, 0.99543118,\n",
      "       0.99543118, 0.99371788, 0.99371788]), 'mean_test_score': array([0.99334094, 0.99334094, 0.9944825 , 0.9944825 , 0.99372146,\n",
      "       0.99372146, 0.9935312 , 0.9935312 ]), 'std_test_score': array([0.00134245, 0.00134245, 0.00188157, 0.00188157, 0.00167735,\n",
      "       0.00167735, 0.0007098 , 0.0007098 ]), 'rank_test_score': array([7, 7, 1, 1, 3, 3, 5, 5], dtype=int32)}\n"
     ]
    }
   ],
   "source": [
    "grid = GridSearchCV(RandomForestClassifier(random_state=0),param_grid=param_grid, cv=StratifiedKFold())\n",
    "grid.fit(X_train, target)\n",
    "print(grid.cv_results_)\n",
    "\n",
    "predict_train = grid.predict_proba(X_train)\n",
    "predict_test = grid.predict_proba(X_test)\n",
    "predict_test_v2 = grid.predict_proba(X_test_v2)\n",
    "predict1 = pd.DataFrame(predict_train)\n",
    "predict1_test = pd.DataFrame(predict_test)\n",
    "predict1_test_v2 = pd.DataFrame(predict_test_v2)\n",
    "\n",
    "X_train = pd.DataFrame(X_train)\n",
    "X_test = pd.DataFrame(X_test)\n",
    "X_test_v2 = pd.DataFrame(X_test_v2)\n"
   ]
  },
  {
   "cell_type": "code",
   "execution_count": 40,
   "metadata": {},
   "outputs": [
    {
     "data": {
      "text/html": [
       "<div>\n",
       "<style scoped>\n",
       "    .dataframe tbody tr th:only-of-type {\n",
       "        vertical-align: middle;\n",
       "    }\n",
       "\n",
       "    .dataframe tbody tr th {\n",
       "        vertical-align: top;\n",
       "    }\n",
       "\n",
       "    .dataframe thead th {\n",
       "        text-align: right;\n",
       "    }\n",
       "</style>\n",
       "<table border=\"1\" class=\"dataframe\">\n",
       "  <thead>\n",
       "    <tr style=\"text-align: right;\">\n",
       "      <th></th>\n",
       "      <th>0</th>\n",
       "      <th>1</th>\n",
       "    </tr>\n",
       "  </thead>\n",
       "  <tbody>\n",
       "    <tr>\n",
       "      <th>0</th>\n",
       "      <td>0.1</td>\n",
       "      <td>0.9</td>\n",
       "    </tr>\n",
       "    <tr>\n",
       "      <th>1</th>\n",
       "      <td>1.0</td>\n",
       "      <td>0.0</td>\n",
       "    </tr>\n",
       "    <tr>\n",
       "      <th>2</th>\n",
       "      <td>1.0</td>\n",
       "      <td>0.0</td>\n",
       "    </tr>\n",
       "    <tr>\n",
       "      <th>3</th>\n",
       "      <td>1.0</td>\n",
       "      <td>0.0</td>\n",
       "    </tr>\n",
       "    <tr>\n",
       "      <th>4</th>\n",
       "      <td>1.0</td>\n",
       "      <td>0.0</td>\n",
       "    </tr>\n",
       "  </tbody>\n",
       "</table>\n",
       "</div>"
      ],
      "text/plain": [
       "     0    1\n",
       "0  0.1  0.9\n",
       "1  1.0  0.0\n",
       "2  1.0  0.0\n",
       "3  1.0  0.0\n",
       "4  1.0  0.0"
      ]
     },
     "execution_count": 40,
     "metadata": {},
     "output_type": "execute_result"
    }
   ],
   "source": [
    "predict1.head()"
   ]
  },
  {
   "cell_type": "code",
   "execution_count": 41,
   "metadata": {},
   "outputs": [
    {
     "data": {
      "text/html": [
       "<div>\n",
       "<style scoped>\n",
       "    .dataframe tbody tr th:only-of-type {\n",
       "        vertical-align: middle;\n",
       "    }\n",
       "\n",
       "    .dataframe tbody tr th {\n",
       "        vertical-align: top;\n",
       "    }\n",
       "\n",
       "    .dataframe thead th {\n",
       "        text-align: right;\n",
       "    }\n",
       "</style>\n",
       "<table border=\"1\" class=\"dataframe\">\n",
       "  <thead>\n",
       "    <tr style=\"text-align: right;\">\n",
       "      <th></th>\n",
       "      <th>0</th>\n",
       "      <th>1</th>\n",
       "    </tr>\n",
       "  </thead>\n",
       "  <tbody>\n",
       "    <tr>\n",
       "      <th>0</th>\n",
       "      <td>1.0</td>\n",
       "      <td>0.0</td>\n",
       "    </tr>\n",
       "    <tr>\n",
       "      <th>1</th>\n",
       "      <td>1.0</td>\n",
       "      <td>0.0</td>\n",
       "    </tr>\n",
       "    <tr>\n",
       "      <th>2</th>\n",
       "      <td>1.0</td>\n",
       "      <td>0.0</td>\n",
       "    </tr>\n",
       "    <tr>\n",
       "      <th>3</th>\n",
       "      <td>1.0</td>\n",
       "      <td>0.0</td>\n",
       "    </tr>\n",
       "    <tr>\n",
       "      <th>4</th>\n",
       "      <td>1.0</td>\n",
       "      <td>0.0</td>\n",
       "    </tr>\n",
       "  </tbody>\n",
       "</table>\n",
       "</div>"
      ],
      "text/plain": [
       "     0    1\n",
       "0  1.0  0.0\n",
       "1  1.0  0.0\n",
       "2  1.0  0.0\n",
       "3  1.0  0.0\n",
       "4  1.0  0.0"
      ]
     },
     "execution_count": 41,
     "metadata": {},
     "output_type": "execute_result"
    }
   ],
   "source": [
    "predict1_test.head()"
   ]
  },
  {
   "cell_type": "code",
   "execution_count": 42,
   "metadata": {},
   "outputs": [
    {
     "data": {
      "text/html": [
       "<div>\n",
       "<style scoped>\n",
       "    .dataframe tbody tr th:only-of-type {\n",
       "        vertical-align: middle;\n",
       "    }\n",
       "\n",
       "    .dataframe tbody tr th {\n",
       "        vertical-align: top;\n",
       "    }\n",
       "\n",
       "    .dataframe thead th {\n",
       "        text-align: right;\n",
       "    }\n",
       "</style>\n",
       "<table border=\"1\" class=\"dataframe\">\n",
       "  <thead>\n",
       "    <tr style=\"text-align: right;\">\n",
       "      <th></th>\n",
       "      <th>0</th>\n",
       "      <th>1</th>\n",
       "    </tr>\n",
       "  </thead>\n",
       "  <tbody>\n",
       "    <tr>\n",
       "      <th>0</th>\n",
       "      <td>1.0</td>\n",
       "      <td>0.0</td>\n",
       "    </tr>\n",
       "    <tr>\n",
       "      <th>1</th>\n",
       "      <td>1.0</td>\n",
       "      <td>0.0</td>\n",
       "    </tr>\n",
       "    <tr>\n",
       "      <th>2</th>\n",
       "      <td>1.0</td>\n",
       "      <td>0.0</td>\n",
       "    </tr>\n",
       "    <tr>\n",
       "      <th>3</th>\n",
       "      <td>1.0</td>\n",
       "      <td>0.0</td>\n",
       "    </tr>\n",
       "    <tr>\n",
       "      <th>4</th>\n",
       "      <td>1.0</td>\n",
       "      <td>0.0</td>\n",
       "    </tr>\n",
       "  </tbody>\n",
       "</table>\n",
       "</div>"
      ],
      "text/plain": [
       "     0    1\n",
       "0  1.0  0.0\n",
       "1  1.0  0.0\n",
       "2  1.0  0.0\n",
       "3  1.0  0.0\n",
       "4  1.0  0.0"
      ]
     },
     "execution_count": 42,
     "metadata": {},
     "output_type": "execute_result"
    }
   ],
   "source": [
    "predict1_test_v2.head()"
   ]
  },
  {
   "cell_type": "code",
   "execution_count": 43,
   "metadata": {},
   "outputs": [],
   "source": [
    "from sklearn.metrics import accuracy_score\n",
    "from sklearn.metrics import precision_score\n",
    "from sklearn.metrics import recall_score\n",
    "from sklearn.metrics import f1_score"
   ]
  },
  {
   "cell_type": "code",
   "execution_count": 44,
   "metadata": {},
   "outputs": [
    {
     "name": "stdout",
     "output_type": "stream",
     "text": [
      "For threshhold: 0.0\n",
      "Accuracy: 0.988515\n",
      "Precision: 0.547368\n",
      "Recall: 1.000000\n",
      "F1 score: 0.707483\n",
      "\n",
      "\n",
      "For threshhold: 0.1\n",
      "Accuracy: 0.994925\n",
      "Precision: 0.739130\n",
      "Recall: 0.980769\n",
      "F1 score: 0.842975\n",
      "\n",
      "\n",
      "For threshhold: 0.2\n",
      "Accuracy: 0.995726\n",
      "Precision: 0.772727\n",
      "Recall: 0.980769\n",
      "F1 score: 0.864407\n",
      "\n",
      "\n",
      "For threshhold: 0.3\n",
      "Accuracy: 0.996795\n",
      "Precision: 0.844828\n",
      "Recall: 0.942308\n",
      "F1 score: 0.890909\n",
      "\n",
      "\n",
      "For threshhold: 0.4\n",
      "Accuracy: 0.997062\n",
      "Precision: 0.859649\n",
      "Recall: 0.942308\n",
      "F1 score: 0.899083\n",
      "\n",
      "\n",
      "For threshhold: 0.5\n",
      "Accuracy: 0.997329\n",
      "Precision: 0.888889\n",
      "Recall: 0.923077\n",
      "F1 score: 0.905660\n",
      "\n",
      "\n",
      "For threshhold: 0.6\n",
      "Accuracy: 0.992521\n",
      "Precision: 0.833333\n",
      "Recall: 0.576923\n",
      "F1 score: 0.681818\n",
      "\n",
      "\n",
      "For threshhold: 0.7\n",
      "Accuracy: 0.991453\n",
      "Precision: 0.833333\n",
      "Recall: 0.480769\n",
      "F1 score: 0.609756\n",
      "\n",
      "\n",
      "For threshhold: 0.8\n",
      "Accuracy: 0.990118\n",
      "Precision: 0.800000\n",
      "Recall: 0.384615\n",
      "F1 score: 0.519481\n",
      "\n",
      "\n",
      "For threshhold: 0.9\n",
      "Accuracy: 0.989583\n",
      "Precision: 0.809524\n",
      "Recall: 0.326923\n",
      "F1 score: 0.465753\n",
      "\n",
      "\n"
     ]
    }
   ],
   "source": [
    "#X_train['predict_proba'] = predict1[1]\n",
    "X_test['predict_proba'] = predict1_test[1]\n",
    "\n",
    "\n",
    "# add id mapping\n",
    "#X_train_with_id = pd.concat([X_train,id_mapping_train],axis=1)\n",
    "X_test_with_id = pd.concat([X_test,id_mapping_test],axis=1)\n",
    "\n",
    "\n",
    "header = ['threshhold', 'accuracy', 'precision', 'recall', 'f1']\n",
    "metric_list = pd.DataFrame(columns=header)\n",
    "metric_list.set_index('threshhold',inplace = True)\n",
    "\n",
    "for index in range(0, 10):\n",
    "    index = index /10\n",
    "    print('For threshhold: ' + str(index))\n",
    "    #add predicted probability\n",
    "    #X_train_with_id['y_pred'] = (X_train_with_id['predict_proba']>index).astype(int)\n",
    "    X_test_with_id['y_pred'] = (X_test_with_id['predict_proba']>index).astype(int)\n",
    "    X_test_with_id['entity_id'] = X_test_with_id['entity_id'].astype(int)\n",
    "    X_test_with_id['resolution_id'] = X_test_with_id['resolution_id'].astype(int)\n",
    "    X_test_with_id = X_test_with_id.sort_values(['resolution_id', 'entity_id'], ascending=[True, True])\n",
    "    X_test_with_name = X_test_with_id.merge(entity,left_on='entity_id',right_on=['id'],how='left').merge(resolution_test,left_on='resolution_id',right_on='id', how='left')\n",
    "    X_test_with_name.drop(['id_x', 'id_y'],axis=1, inplace=True)\n",
    "    X_test_with_name.rename(columns = {'name_x':'entity_name', 'name_y':'resolution_name'}, inplace=True)\n",
    "    X_predicted = X_test_with_name[['resolution_id', 'entity_id', 'resolution_name', 'entity_name', 'predict_proba', 'y_pred']]\n",
    "    X_predicted.head()\n",
    "    matches['true_entity_id'] = matches['true_entity_id'].astype(int)\n",
    "    matches['resolution_id'] = matches['resolution_id'].astype(int)\n",
    "    compare_output = X_predicted.merge(matches, on='resolution_id',how='inner')\n",
    "    compare_output['y_actual'] = (compare_output['entity_id'] == compare_output['true_entity_id']).astype(int)\n",
    "    #compare_output.head()\n",
    "    # accuracy: (tp + tn) / (p + n)\n",
    "    accuracy = accuracy_score(compare_output['y_actual'], compare_output['y_pred'] )\n",
    "    print('Accuracy: %f' % accuracy)\n",
    "    # precision tp / (tp + fp)\n",
    "    precision = precision_score(compare_output['y_actual'], compare_output['y_pred'])\n",
    "    print('Precision: %f' % precision)\n",
    "    # recall: tp / (tp + fn)\n",
    "    recall = recall_score(compare_output['y_actual'], compare_output['y_pred'])\n",
    "    print('Recall: %f' % recall)\n",
    "    # f1: 2 tp / (2 tp + fp + fn)\n",
    "    f1 = f1_score(compare_output['y_actual'], compare_output['y_pred'])\n",
    "    print('F1 score: %f' % f1)\n",
    "    print('')\n",
    "    #average = (accuracy + precision + recall + f1) / 4\n",
    "    #print('Average score: %f' % average)\n",
    "    print('')\n",
    "    metric_list.loc[index] = [accuracy, precision, recall, f1]\n",
    "    output_path = 'result/v1/entity_resolution_t' + str(int(index*10)) + '.csv'\n",
    "    final_test_output = compare_output[compare_output['y_pred']==1][['resolution_name', 'entity_name', 'y_pred', 'y_actual', 'predict_proba']]\n",
    "    final_test_output.to_csv(output_path, index = False)\n",
    "    \n",
    "\n"
   ]
  },
  {
   "cell_type": "code",
   "execution_count": 45,
   "metadata": {},
   "outputs": [],
   "source": [
    "import matplotlib.pyplot as plt"
   ]
  },
  {
   "cell_type": "code",
   "execution_count": 46,
   "metadata": {},
   "outputs": [
    {
     "data": {
      "text/html": [
       "<div>\n",
       "<style scoped>\n",
       "    .dataframe tbody tr th:only-of-type {\n",
       "        vertical-align: middle;\n",
       "    }\n",
       "\n",
       "    .dataframe tbody tr th {\n",
       "        vertical-align: top;\n",
       "    }\n",
       "\n",
       "    .dataframe thead th {\n",
       "        text-align: right;\n",
       "    }\n",
       "</style>\n",
       "<table border=\"1\" class=\"dataframe\">\n",
       "  <thead>\n",
       "    <tr style=\"text-align: right;\">\n",
       "      <th></th>\n",
       "      <th>accuracy</th>\n",
       "      <th>precision</th>\n",
       "      <th>recall</th>\n",
       "      <th>f1</th>\n",
       "    </tr>\n",
       "    <tr>\n",
       "      <th>threshhold</th>\n",
       "      <th></th>\n",
       "      <th></th>\n",
       "      <th></th>\n",
       "      <th></th>\n",
       "    </tr>\n",
       "  </thead>\n",
       "  <tbody>\n",
       "    <tr>\n",
       "      <th>0.0</th>\n",
       "      <td>0.988515</td>\n",
       "      <td>0.547368</td>\n",
       "      <td>1.000000</td>\n",
       "      <td>0.707483</td>\n",
       "    </tr>\n",
       "    <tr>\n",
       "      <th>0.1</th>\n",
       "      <td>0.994925</td>\n",
       "      <td>0.739130</td>\n",
       "      <td>0.980769</td>\n",
       "      <td>0.842975</td>\n",
       "    </tr>\n",
       "    <tr>\n",
       "      <th>0.2</th>\n",
       "      <td>0.995726</td>\n",
       "      <td>0.772727</td>\n",
       "      <td>0.980769</td>\n",
       "      <td>0.864407</td>\n",
       "    </tr>\n",
       "    <tr>\n",
       "      <th>0.3</th>\n",
       "      <td>0.996795</td>\n",
       "      <td>0.844828</td>\n",
       "      <td>0.942308</td>\n",
       "      <td>0.890909</td>\n",
       "    </tr>\n",
       "    <tr>\n",
       "      <th>0.4</th>\n",
       "      <td>0.997062</td>\n",
       "      <td>0.859649</td>\n",
       "      <td>0.942308</td>\n",
       "      <td>0.899083</td>\n",
       "    </tr>\n",
       "  </tbody>\n",
       "</table>\n",
       "</div>"
      ],
      "text/plain": [
       "            accuracy  precision    recall        f1\n",
       "threshhold                                         \n",
       "0.0         0.988515   0.547368  1.000000  0.707483\n",
       "0.1         0.994925   0.739130  0.980769  0.842975\n",
       "0.2         0.995726   0.772727  0.980769  0.864407\n",
       "0.3         0.996795   0.844828  0.942308  0.890909\n",
       "0.4         0.997062   0.859649  0.942308  0.899083"
      ]
     },
     "execution_count": 46,
     "metadata": {},
     "output_type": "execute_result"
    }
   ],
   "source": [
    "metric_list.head()"
   ]
  },
  {
   "cell_type": "code",
   "execution_count": 47,
   "metadata": {},
   "outputs": [
    {
     "data": {
      "text/plain": [
       "<Figure size 432x288 with 0 Axes>"
      ]
     },
     "metadata": {},
     "output_type": "display_data"
    },
    {
     "data": {
      "image/png": "[encoded data removed]",
      "text/plain": [
       "<Figure size 432x288 with 1 Axes>"
      ]
     },
     "metadata": {
      "needs_background": "light"
     },
     "output_type": "display_data"
    }
   ],
   "source": [
    "plt.figure()\n",
    "metric_list.plot()\n",
    "\n",
    "plt.show()"
   ]
  },
  {
   "cell_type": "code",
   "execution_count": 48,
   "metadata": {},
   "outputs": [
    {
     "data": {
      "text/plain": [
       "<Figure size 432x288 with 0 Axes>"
      ]
     },
     "metadata": {},
     "output_type": "display_data"
    },
    {
     "data": {
      "image/png": "[encoded data removed]",
      "text/plain": [
       "<Figure size 432x288 with 1 Axes>"
      ]
     },
     "metadata": {
      "needs_background": "light"
     },
     "output_type": "display_data"
    }
   ],
   "source": [
    "#highest recall\n",
    "plt.figure()\n",
    "metric_list.plot()\n",
    "plt.axvline(x=0.0,color='yellow',linestyle='--')\n",
    "plt.show()\n"
   ]
  },
  {
   "cell_type": "code",
   "execution_count": 69,
   "metadata": {},
   "outputs": [
    {
     "data": {
      "text/plain": [
       "<Figure size 432x288 with 0 Axes>"
      ]
     },
     "metadata": {},
     "output_type": "display_data"
    },
    {
     "data": {
      "image/png": "[encoded data removed]",
      "text/plain": [
       "<Figure size 432x288 with 1 Axes>"
      ]
     },
     "metadata": {
      "needs_background": "light"
     },
     "output_type": "display_data"
    }
   ],
   "source": [
    "#highest precision\n",
    "plt.figure()\n",
    "metric_list.plot()\n",
    "plt.axvline(x=0.5,color='k',linestyle='--')\n",
    "plt.show()"
   ]
  },
  {
   "cell_type": "code",
   "execution_count": 70,
   "metadata": {},
   "outputs": [
    {
     "data": {
      "text/plain": [
       "<Figure size 432x288 with 0 Axes>"
      ]
     },
     "metadata": {},
     "output_type": "display_data"
    },
    {
     "data": {
      "image/png": "[encoded data removed]",
      "text/plain": [
       "<Figure size 432x288 with 1 Axes>"
      ]
     },
     "metadata": {
      "needs_background": "light"
     },
     "output_type": "display_data"
    }
   ],
   "source": [
    "#highest f1\n",
    "plt.figure()\n",
    "metric_list.plot()\n",
    "plt.axvline(x=0.5,color='k',linestyle='--')\n",
    "plt.show()"
   ]
  },
  {
   "cell_type": "code",
   "execution_count": 51,
   "metadata": {},
   "outputs": [
    {
     "name": "stdout",
     "output_type": "stream",
     "text": [
      "For threshhold: 0.0\n",
      "Accuracy: 0.988248\n",
      "Precision: 0.541667\n",
      "Recall: 1.000000\n",
      "F1 score: 0.702703\n",
      "\n",
      "For threshhold: 0.1\n",
      "Accuracy: 0.995459\n",
      "Precision: 0.753623\n",
      "Recall: 1.000000\n",
      "F1 score: 0.859504\n",
      "\n",
      "For threshhold: 0.2\n",
      "Accuracy: 0.995994\n",
      "Precision: 0.776119\n",
      "Recall: 1.000000\n",
      "F1 score: 0.873950\n",
      "\n",
      "For threshhold: 0.3\n",
      "Accuracy: 0.997863\n",
      "Precision: 0.866667\n",
      "Recall: 1.000000\n",
      "F1 score: 0.928571\n",
      "\n",
      "For threshhold: 0.4\n",
      "Accuracy: 0.998397\n",
      "Precision: 0.896552\n",
      "Recall: 1.000000\n",
      "F1 score: 0.945455\n",
      "\n",
      "For threshhold: 0.5\n",
      "Accuracy: 0.998932\n",
      "Precision: 0.928571\n",
      "Recall: 1.000000\n",
      "F1 score: 0.962963\n",
      "\n",
      "For threshhold: 0.6\n",
      "Accuracy: 0.994391\n",
      "Precision: 0.897436\n",
      "Recall: 0.673077\n",
      "F1 score: 0.769231\n",
      "\n",
      "For threshhold: 0.7\n",
      "Accuracy: 0.993323\n",
      "Precision: 0.885714\n",
      "Recall: 0.596154\n",
      "F1 score: 0.712644\n",
      "\n",
      "For threshhold: 0.8\n",
      "Accuracy: 0.991720\n",
      "Precision: 0.862069\n",
      "Recall: 0.480769\n",
      "F1 score: 0.617284\n",
      "\n",
      "For threshhold: 0.9\n",
      "Accuracy: 0.990652\n",
      "Precision: 0.840000\n",
      "Recall: 0.403846\n",
      "F1 score: 0.545455\n",
      "\n"
     ]
    }
   ],
   "source": [
    "X_test_v2['predict_proba'] = predict1_test_v2[1]\n",
    "X_test_with_id_v2 = pd.concat([X_test_v2,id_mapping_test_v2],axis=1)\n",
    "\n",
    "header = ['threshhold', 'accuracy', 'precision', 'recall', 'f1']\n",
    "metric_list_v2 = pd.DataFrame(columns=header)\n",
    "metric_list_v2.set_index('threshhold',inplace = True)\n",
    "\n",
    "for index in range(0, 10):\n",
    "    index = index /10\n",
    "    print('For threshhold: ' + str(index))\n",
    "    #add predicted probability\n",
    "    #X_train_with_id['y_pred'] = (X_train_with_id['predict_proba']>index).astype(int)\n",
    "    X_test_with_id_v2['y_pred'] = (X_test_with_id_v2['predict_proba']>index).astype(int)\n",
    "    X_test_with_id_v2['entity_id'] = X_test_with_id_v2['entity_id'].astype(int)\n",
    "    X_test_with_id_v2['resolution_id'] = X_test_with_id_v2['resolution_id'].astype(int)\n",
    "    X_test_with_id_v2 = X_test_with_id_v2.sort_values(['resolution_id', 'entity_id'], ascending=[True, True])\n",
    "    X_test_with_name_v2 = X_test_with_id_v2.merge(entity,left_on='entity_id',right_on=['id'],how='left').merge(resolution_test_v2,left_on='resolution_id',right_on='id', how='left')\n",
    "    X_test_with_name_v2.drop(['id_x', 'id_y'],axis=1, inplace=True)\n",
    "    X_test_with_name_v2.rename(columns = {'name_x':'entity_name', 'name_y':'resolution_name'}, inplace=True)\n",
    "    X_predicted_v2 = X_test_with_name_v2[['resolution_id', 'entity_id', 'resolution_name', 'entity_name', 'predict_proba', 'y_pred']]\n",
    "    X_predicted_v2.head()\n",
    "    matches['true_entity_id'] = matches['true_entity_id'].astype(int)\n",
    "    matches['resolution_id'] = matches['resolution_id'].astype(int)\n",
    "    compare_output_v2 = X_predicted_v2.merge(matches, on='resolution_id',how='inner')\n",
    "    compare_output_v2['y_actual'] = (compare_output_v2['entity_id'] == compare_output_v2['true_entity_id']).astype(int)\n",
    "    #compare_output.head()\n",
    "    # accuracy: (tp + tn) / (p + n)\n",
    "    accuracy_v2 = accuracy_score(compare_output_v2['y_actual'], compare_output_v2['y_pred'])\n",
    "    print('Accuracy: %f' % accuracy_v2)\n",
    "    # precision tp / (tp + fp)\n",
    "    precision_v2 = precision_score(compare_output_v2['y_actual'], compare_output_v2['y_pred'])\n",
    "    print('Precision: %f' % precision_v2)\n",
    "    # recall: tp / (tp + fn)\n",
    "    recall_v2 = recall_score(compare_output_v2['y_actual'], compare_output_v2['y_pred'])\n",
    "    print('Recall: %f' % recall_v2)\n",
    "    # f1: 2 tp / (2 tp + fp + fn)\n",
    "    f1_v2 = f1_score(compare_output_v2['y_actual'], compare_output_v2['y_pred'])\n",
    "    print('F1 score: %f' % f1_v2)\n",
    "    print('')\n",
    "#     average_v2 = (accuracy_v2 + precision_v2 + recall_v2 + f1_v2) / 4\n",
    "#     print('Average score: %f' % accuracy_v2)\n",
    "#     print('')\n",
    "    \n",
    "    metric_list_v2.loc[index] = [accuracy_v2, precision_v2, recall_v2, f1_v2]\n",
    "    output_path_v2 = 'result/v2/entity_resolution_t' + str(int(index*10)) + '.csv'\n",
    "    final_test_output_v2 = compare_output_v2[compare_output_v2['y_pred']==1][['resolution_name', 'entity_name', 'y_pred', 'y_actual', 'predict_proba']]\n",
    "    final_test_output_v2.to_csv(output_path_v2, index = False)"
   ]
  },
  {
   "cell_type": "code",
   "execution_count": 52,
   "metadata": {},
   "outputs": [
    {
     "data": {
      "text/plain": [
       "<Figure size 432x288 with 0 Axes>"
      ]
     },
     "metadata": {},
     "output_type": "display_data"
    },
    {
     "data": {
      "image/png": "[encoded data removed]",
      "text/plain": [
       "<Figure size 432x288 with 1 Axes>"
      ]
     },
     "metadata": {
      "needs_background": "light"
     },
     "output_type": "display_data"
    }
   ],
   "source": [
    "plt.figure()\n",
    "metric_list_v2.plot()\n",
    "plt.show()"
   ]
  },
  {
   "cell_type": "code",
   "execution_count": 53,
   "metadata": {},
   "outputs": [
    {
     "data": {
      "text/plain": [
       "<Figure size 432x288 with 0 Axes>"
      ]
     },
     "metadata": {},
     "output_type": "display_data"
    },
    {
     "data": {
      "image/png": "[encoded data removed]",
      "text/plain": [
       "<Figure size 432x288 with 1 Axes>"
      ]
     },
     "metadata": {
      "needs_background": "light"
     },
     "output_type": "display_data"
    }
   ],
   "source": [
    "#highest recall\n",
    "plt.figure()\n",
    "metric_list_v2.plot()\n",
    "plt.axvline(x=0.0,color='k',linestyle='--')\n",
    "plt.show()"
   ]
  },
  {
   "cell_type": "code",
   "execution_count": 67,
   "metadata": {},
   "outputs": [
    {
     "data": {
      "text/plain": [
       "<Figure size 432x288 with 0 Axes>"
      ]
     },
     "metadata": {},
     "output_type": "display_data"
    },
    {
     "data": {
      "image/png": "[encoded data removed]",
      "text/plain": [
       "<Figure size 432x288 with 1 Axes>"
      ]
     },
     "metadata": {
      "needs_background": "light"
     },
     "output_type": "display_data"
    }
   ],
   "source": [
    "#highest precision\n",
    "plt.figure()\n",
    "metric_list_v2.plot()\n",
    "plt.axvline(x=0.5,color='k',linestyle='--')\n",
    "plt.show()"
   ]
  },
  {
   "cell_type": "code",
   "execution_count": 68,
   "metadata": {},
   "outputs": [
    {
     "data": {
      "text/plain": [
       "<Figure size 432x288 with 0 Axes>"
      ]
     },
     "metadata": {},
     "output_type": "display_data"
    },
    {
     "data": {
      "image/png": "[encoded data removed]",
      "text/plain": [
       "<Figure size 432x288 with 1 Axes>"
      ]
     },
     "metadata": {
      "needs_background": "light"
     },
     "output_type": "display_data"
    }
   ],
   "source": [
    "#highest f1\n",
    "plt.figure()\n",
    "metric_list_v2.plot()\n",
    "plt.axvline(x=0.5,color='k',linestyle='--')\n",
    "plt.show()"
   ]
  },
  {
   "cell_type": "code",
   "execution_count": null,
   "metadata": {},
   "outputs": [],
   "source": []
  },
  {
   "cell_type": "code",
   "execution_count": 56,
   "metadata": {},
   "outputs": [],
   "source": [
    "precision_compare = pd.merge(metric_list[['precision']], metric_list_v2[['precision']], left_index=True, right_index=True)\n",
    "recall_compare = pd.merge(metric_list[['recall']], metric_list_v2[['recall']], left_index=True, right_index=True)\n",
    "f1_compare = pd.merge(metric_list[['f1']], metric_list_v2[['f1']], left_index=True, right_index=True)\n",
    "\n",
    "\n",
    "\n",
    "\n",
    "\n",
    "\n",
    "\n",
    "\n",
    "\n",
    "\n",
    "\n"
   ]
  },
  {
   "cell_type": "code",
   "execution_count": 57,
   "metadata": {},
   "outputs": [
    {
     "data": {
      "text/html": [
       "<div>\n",
       "<style scoped>\n",
       "    .dataframe tbody tr th:only-of-type {\n",
       "        vertical-align: middle;\n",
       "    }\n",
       "\n",
       "    .dataframe tbody tr th {\n",
       "        vertical-align: top;\n",
       "    }\n",
       "\n",
       "    .dataframe thead th {\n",
       "        text-align: right;\n",
       "    }\n",
       "</style>\n",
       "<table border=\"1\" class=\"dataframe\">\n",
       "  <thead>\n",
       "    <tr style=\"text-align: right;\">\n",
       "      <th></th>\n",
       "      <th>precision_x</th>\n",
       "      <th>precision_y</th>\n",
       "    </tr>\n",
       "    <tr>\n",
       "      <th>threshhold</th>\n",
       "      <th></th>\n",
       "      <th></th>\n",
       "    </tr>\n",
       "  </thead>\n",
       "  <tbody>\n",
       "    <tr>\n",
       "      <th>0.0</th>\n",
       "      <td>0.547368</td>\n",
       "      <td>0.541667</td>\n",
       "    </tr>\n",
       "    <tr>\n",
       "      <th>0.1</th>\n",
       "      <td>0.739130</td>\n",
       "      <td>0.753623</td>\n",
       "    </tr>\n",
       "    <tr>\n",
       "      <th>0.2</th>\n",
       "      <td>0.772727</td>\n",
       "      <td>0.776119</td>\n",
       "    </tr>\n",
       "    <tr>\n",
       "      <th>0.3</th>\n",
       "      <td>0.844828</td>\n",
       "      <td>0.866667</td>\n",
       "    </tr>\n",
       "    <tr>\n",
       "      <th>0.4</th>\n",
       "      <td>0.859649</td>\n",
       "      <td>0.896552</td>\n",
       "    </tr>\n",
       "  </tbody>\n",
       "</table>\n",
       "</div>"
      ],
      "text/plain": [
       "            precision_x  precision_y\n",
       "threshhold                          \n",
       "0.0            0.547368     0.541667\n",
       "0.1            0.739130     0.753623\n",
       "0.2            0.772727     0.776119\n",
       "0.3            0.844828     0.866667\n",
       "0.4            0.859649     0.896552"
      ]
     },
     "execution_count": 57,
     "metadata": {},
     "output_type": "execute_result"
    }
   ],
   "source": [
    "precision_compare.head()"
   ]
  },
  {
   "cell_type": "code",
   "execution_count": 58,
   "metadata": {},
   "outputs": [
    {
     "data": {
      "text/html": [
       "<div>\n",
       "<style scoped>\n",
       "    .dataframe tbody tr th:only-of-type {\n",
       "        vertical-align: middle;\n",
       "    }\n",
       "\n",
       "    .dataframe tbody tr th {\n",
       "        vertical-align: top;\n",
       "    }\n",
       "\n",
       "    .dataframe thead th {\n",
       "        text-align: right;\n",
       "    }\n",
       "</style>\n",
       "<table border=\"1\" class=\"dataframe\">\n",
       "  <thead>\n",
       "    <tr style=\"text-align: right;\">\n",
       "      <th></th>\n",
       "      <th>recall_x</th>\n",
       "      <th>recall_y</th>\n",
       "    </tr>\n",
       "    <tr>\n",
       "      <th>threshhold</th>\n",
       "      <th></th>\n",
       "      <th></th>\n",
       "    </tr>\n",
       "  </thead>\n",
       "  <tbody>\n",
       "    <tr>\n",
       "      <th>0.0</th>\n",
       "      <td>1.000000</td>\n",
       "      <td>1.0</td>\n",
       "    </tr>\n",
       "    <tr>\n",
       "      <th>0.1</th>\n",
       "      <td>0.980769</td>\n",
       "      <td>1.0</td>\n",
       "    </tr>\n",
       "    <tr>\n",
       "      <th>0.2</th>\n",
       "      <td>0.980769</td>\n",
       "      <td>1.0</td>\n",
       "    </tr>\n",
       "    <tr>\n",
       "      <th>0.3</th>\n",
       "      <td>0.942308</td>\n",
       "      <td>1.0</td>\n",
       "    </tr>\n",
       "    <tr>\n",
       "      <th>0.4</th>\n",
       "      <td>0.942308</td>\n",
       "      <td>1.0</td>\n",
       "    </tr>\n",
       "  </tbody>\n",
       "</table>\n",
       "</div>"
      ],
      "text/plain": [
       "            recall_x  recall_y\n",
       "threshhold                    \n",
       "0.0         1.000000       1.0\n",
       "0.1         0.980769       1.0\n",
       "0.2         0.980769       1.0\n",
       "0.3         0.942308       1.0\n",
       "0.4         0.942308       1.0"
      ]
     },
     "execution_count": 58,
     "metadata": {},
     "output_type": "execute_result"
    }
   ],
   "source": [
    "recall_compare.head()"
   ]
  },
  {
   "cell_type": "code",
   "execution_count": 59,
   "metadata": {},
   "outputs": [
    {
     "data": {
      "text/html": [
       "<div>\n",
       "<style scoped>\n",
       "    .dataframe tbody tr th:only-of-type {\n",
       "        vertical-align: middle;\n",
       "    }\n",
       "\n",
       "    .dataframe tbody tr th {\n",
       "        vertical-align: top;\n",
       "    }\n",
       "\n",
       "    .dataframe thead th {\n",
       "        text-align: right;\n",
       "    }\n",
       "</style>\n",
       "<table border=\"1\" class=\"dataframe\">\n",
       "  <thead>\n",
       "    <tr style=\"text-align: right;\">\n",
       "      <th></th>\n",
       "      <th>f1_x</th>\n",
       "      <th>f1_y</th>\n",
       "    </tr>\n",
       "    <tr>\n",
       "      <th>threshhold</th>\n",
       "      <th></th>\n",
       "      <th></th>\n",
       "    </tr>\n",
       "  </thead>\n",
       "  <tbody>\n",
       "    <tr>\n",
       "      <th>0.0</th>\n",
       "      <td>0.707483</td>\n",
       "      <td>0.702703</td>\n",
       "    </tr>\n",
       "    <tr>\n",
       "      <th>0.1</th>\n",
       "      <td>0.842975</td>\n",
       "      <td>0.859504</td>\n",
       "    </tr>\n",
       "    <tr>\n",
       "      <th>0.2</th>\n",
       "      <td>0.864407</td>\n",
       "      <td>0.873950</td>\n",
       "    </tr>\n",
       "    <tr>\n",
       "      <th>0.3</th>\n",
       "      <td>0.890909</td>\n",
       "      <td>0.928571</td>\n",
       "    </tr>\n",
       "    <tr>\n",
       "      <th>0.4</th>\n",
       "      <td>0.899083</td>\n",
       "      <td>0.945455</td>\n",
       "    </tr>\n",
       "  </tbody>\n",
       "</table>\n",
       "</div>"
      ],
      "text/plain": [
       "                f1_x      f1_y\n",
       "threshhold                    \n",
       "0.0         0.707483  0.702703\n",
       "0.1         0.842975  0.859504\n",
       "0.2         0.864407  0.873950\n",
       "0.3         0.890909  0.928571\n",
       "0.4         0.899083  0.945455"
      ]
     },
     "execution_count": 59,
     "metadata": {},
     "output_type": "execute_result"
    }
   ],
   "source": [
    "f1_compare.head()"
   ]
  },
  {
   "cell_type": "code",
   "execution_count": 60,
   "metadata": {},
   "outputs": [
    {
     "data": {
      "text/plain": [
       "<Figure size 432x288 with 0 Axes>"
      ]
     },
     "metadata": {},
     "output_type": "display_data"
    },
    {
     "data": {
      "image/png": "[encoded data removed]",
      "text/plain": [
       "<Figure size 432x288 with 1 Axes>"
      ]
     },
     "metadata": {
      "needs_background": "light"
     },
     "output_type": "display_data"
    }
   ],
   "source": [
    "plt.figure()\n",
    "precision_compare.plot()\n",
    "plt.show()"
   ]
  },
  {
   "cell_type": "code",
   "execution_count": 61,
   "metadata": {},
   "outputs": [
    {
     "data": {
      "text/plain": [
       "<Figure size 432x288 with 0 Axes>"
      ]
     },
     "metadata": {},
     "output_type": "display_data"
    },
    {
     "data": {
      "image/png": "[encoded data removed]",
      "text/plain": [
       "<Figure size 432x288 with 1 Axes>"
      ]
     },
     "metadata": {
      "needs_background": "light"
     },
     "output_type": "display_data"
    }
   ],
   "source": [
    "plt.figure()\n",
    "recall_compare.plot()\n",
    "plt.show()"
   ]
  },
  {
   "cell_type": "code",
   "execution_count": 62,
   "metadata": {},
   "outputs": [
    {
     "data": {
      "text/plain": [
       "<Figure size 432x288 with 0 Axes>"
      ]
     },
     "metadata": {},
     "output_type": "display_data"
    },
    {
     "data": {
      "image/png": "[encoded data removed]",
      "text/plain": [
       "<Figure size 432x288 with 1 Axes>"
      ]
     },
     "metadata": {
      "needs_background": "light"
     },
     "output_type": "display_data"
    }
   ],
   "source": [
    "plt.figure()\n",
    "f1_compare.plot()\n",
    "plt.show()"
   ]
  },
  {
   "cell_type": "code",
   "execution_count": 63,
   "metadata": {},
   "outputs": [
    {
     "data": {
      "text/html": [
       "<div>\n",
       "<style scoped>\n",
       "    .dataframe tbody tr th:only-of-type {\n",
       "        vertical-align: middle;\n",
       "    }\n",
       "\n",
       "    .dataframe tbody tr th {\n",
       "        vertical-align: top;\n",
       "    }\n",
       "\n",
       "    .dataframe thead th {\n",
       "        text-align: right;\n",
       "    }\n",
       "</style>\n",
       "<table border=\"1\" class=\"dataframe\">\n",
       "  <thead>\n",
       "    <tr style=\"text-align: right;\">\n",
       "      <th></th>\n",
       "      <th>resolution_name</th>\n",
       "      <th>entity_name</th>\n",
       "      <th>y_pred</th>\n",
       "      <th>y_actual</th>\n",
       "      <th>predict_proba</th>\n",
       "    </tr>\n",
       "  </thead>\n",
       "  <tbody>\n",
       "    <tr>\n",
       "      <th>0</th>\n",
       "      <td>HILLARYCLINTON</td>\n",
       "      <td>HILLARYCLINTON</td>\n",
       "      <td>1</td>\n",
       "      <td>1</td>\n",
       "      <td>0.713636</td>\n",
       "    </tr>\n",
       "    <tr>\n",
       "      <th>1</th>\n",
       "      <td>NANCYPELOSI</td>\n",
       "      <td>NANCYPELOSI</td>\n",
       "      <td>1</td>\n",
       "      <td>1</td>\n",
       "      <td>1.000000</td>\n",
       "    </tr>\n",
       "    <tr>\n",
       "      <th>2</th>\n",
       "      <td>BARACKOBAMA</td>\n",
       "      <td>BARACKOBAMA</td>\n",
       "      <td>1</td>\n",
       "      <td>1</td>\n",
       "      <td>1.000000</td>\n",
       "    </tr>\n",
       "    <tr>\n",
       "      <th>3</th>\n",
       "      <td>ROBERTMUELLER</td>\n",
       "      <td>ROBERTMUELLER</td>\n",
       "      <td>1</td>\n",
       "      <td>1</td>\n",
       "      <td>0.589296</td>\n",
       "    </tr>\n",
       "    <tr>\n",
       "      <th>4</th>\n",
       "      <td>ROBERTMUELLER</td>\n",
       "      <td>JOHNROBERTS</td>\n",
       "      <td>1</td>\n",
       "      <td>0</td>\n",
       "      <td>0.200000</td>\n",
       "    </tr>\n",
       "  </tbody>\n",
       "</table>\n",
       "</div>"
      ],
      "text/plain": [
       "  resolution_name     entity_name  y_pred  y_actual  predict_proba\n",
       "0  HILLARYCLINTON  HILLARYCLINTON       1         1       0.713636\n",
       "1     NANCYPELOSI     NANCYPELOSI       1         1       1.000000\n",
       "2     BARACKOBAMA     BARACKOBAMA       1         1       1.000000\n",
       "3   ROBERTMUELLER   ROBERTMUELLER       1         1       0.589296\n",
       "4   ROBERTMUELLER     JOHNROBERTS       1         0       0.200000"
      ]
     },
     "execution_count": 63,
     "metadata": {},
     "output_type": "execute_result"
    }
   ],
   "source": [
    "test_highest_prob_path = \"result/v2/entity_resolution_t0.csv\"\n",
    "test_highest_prob_df = pd.read_csv(test_highest_prob_path)\n",
    "test_highest_prob_df.head()"
   ]
  },
  {
   "cell_type": "code",
   "execution_count": 64,
   "metadata": {},
   "outputs": [
    {
     "data": {
      "text/html": [
       "<div>\n",
       "<style scoped>\n",
       "    .dataframe tbody tr th:only-of-type {\n",
       "        vertical-align: middle;\n",
       "    }\n",
       "\n",
       "    .dataframe tbody tr th {\n",
       "        vertical-align: top;\n",
       "    }\n",
       "\n",
       "    .dataframe thead th {\n",
       "        text-align: right;\n",
       "    }\n",
       "</style>\n",
       "<table border=\"1\" class=\"dataframe\">\n",
       "  <thead>\n",
       "    <tr style=\"text-align: right;\">\n",
       "      <th></th>\n",
       "      <th>resolution_name</th>\n",
       "      <th>entity_name</th>\n",
       "      <th>y_pred</th>\n",
       "      <th>y_actual</th>\n",
       "      <th>predict_proba</th>\n",
       "    </tr>\n",
       "    <tr>\n",
       "      <th>resolution_name</th>\n",
       "      <th></th>\n",
       "      <th></th>\n",
       "      <th></th>\n",
       "      <th></th>\n",
       "      <th></th>\n",
       "    </tr>\n",
       "  </thead>\n",
       "  <tbody>\n",
       "    <tr>\n",
       "      <th>BARACKOBAMA</th>\n",
       "      <td>BARACKOBAMA</td>\n",
       "      <td>BARACKOBAMA</td>\n",
       "      <td>1</td>\n",
       "      <td>1</td>\n",
       "      <td>1.000000</td>\n",
       "    </tr>\n",
       "    <tr>\n",
       "      <th>BERNIESANDERS</th>\n",
       "      <td>BERNIESANDERS</td>\n",
       "      <td>BERNIESANDERS</td>\n",
       "      <td>1</td>\n",
       "      <td>1</td>\n",
       "      <td>0.589296</td>\n",
       "    </tr>\n",
       "    <tr>\n",
       "      <th>BETOOROURKE</th>\n",
       "      <td>BETOOROURKE</td>\n",
       "      <td>BETOOROURKE</td>\n",
       "      <td>1</td>\n",
       "      <td>1</td>\n",
       "      <td>1.000000</td>\n",
       "    </tr>\n",
       "    <tr>\n",
       "      <th>BRETTKAVANAUGH</th>\n",
       "      <td>BRETTKAVANAUGH</td>\n",
       "      <td>BRETTKAVANAUGH</td>\n",
       "      <td>1</td>\n",
       "      <td>1</td>\n",
       "      <td>0.713636</td>\n",
       "    </tr>\n",
       "    <tr>\n",
       "      <th>CHRISWALLACE</th>\n",
       "      <td>CHRISWALLACE</td>\n",
       "      <td>CHRISWALLACE</td>\n",
       "      <td>1</td>\n",
       "      <td>1</td>\n",
       "      <td>0.589296</td>\n",
       "    </tr>\n",
       "  </tbody>\n",
       "</table>\n",
       "</div>"
      ],
      "text/plain": [
       "                resolution_name     entity_name  y_pred  y_actual  \\\n",
       "resolution_name                                                     \n",
       "BARACKOBAMA         BARACKOBAMA     BARACKOBAMA       1         1   \n",
       "BERNIESANDERS     BERNIESANDERS   BERNIESANDERS       1         1   \n",
       "BETOOROURKE         BETOOROURKE     BETOOROURKE       1         1   \n",
       "BRETTKAVANAUGH   BRETTKAVANAUGH  BRETTKAVANAUGH       1         1   \n",
       "CHRISWALLACE       CHRISWALLACE    CHRISWALLACE       1         1   \n",
       "\n",
       "                 predict_proba  \n",
       "resolution_name                 \n",
       "BARACKOBAMA           1.000000  \n",
       "BERNIESANDERS         0.589296  \n",
       "BETOOROURKE           1.000000  \n",
       "BRETTKAVANAUGH        0.713636  \n",
       "CHRISWALLACE          0.589296  "
      ]
     },
     "execution_count": 64,
     "metadata": {},
     "output_type": "execute_result"
    }
   ],
   "source": [
    "test_highest_prob_df = test_highest_prob_df.groupby('resolution_name', group_keys=False).apply(lambda x: x.loc[x.predict_proba.idxmax()])\n",
    "test_highest_prob_df.head()"
   ]
  },
  {
   "cell_type": "code",
   "execution_count": 65,
   "metadata": {},
   "outputs": [
    {
     "name": "stdout",
     "output_type": "stream",
     "text": [
      "0.9555555555555556\n"
     ]
    }
   ],
   "source": [
    "precision_v3 = precision_score(test_highest_prob_df['y_actual'], test_highest_prob_df['y_pred'])\n",
    "print(precision_v3)"
   ]
  },
  {
   "cell_type": "code",
   "execution_count": 66,
   "metadata": {},
   "outputs": [],
   "source": [
    "test_highest_prob_df.to_csv(\"result/v3/entity_resolution_test.csv\")"
   ]
  },
  {
   "cell_type": "code",
   "execution_count": null,
   "metadata": {},
   "outputs": [],
   "source": []
  }
 ],
 "metadata": {
  "kernelspec": {
   "display_name": "Python 3",
   "language": "python",
   "name": "python3"
  },
  "language_info": {
   "codemirror_mode": {
    "name": "ipython",
    "version": 3
   },
   "file_extension": ".py",
   "mimetype": "text/x-python",
   "name": "python",
   "nbconvert_exporter": "python",
   "pygments_lexer": "ipython3",
   "version": "3.7.3"
  }
 },
 "nbformat": 4,
 "nbformat_minor": 2
}
